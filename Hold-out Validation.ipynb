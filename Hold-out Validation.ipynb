{
 "cells": [
  {
   "cell_type": "code",
   "execution_count": 1,
   "id": "0c1be704",
   "metadata": {},
   "outputs": [],
   "source": [
    "from keras.datasets import boston_housing\n",
    "import numpy as np\n",
    "from sklearn.preprocessing import MinMaxScaler\n",
    "from keras import layers, models\n",
    "import matplotlib.pyplot as plt"
   ]
  },
  {
   "cell_type": "code",
   "execution_count": 2,
   "id": "17ba82d0",
   "metadata": {},
   "outputs": [],
   "source": [
    "(train_data, train_targets), (test_data, test_targets) = boston_housing.load_data()"
   ]
  },
  {
   "cell_type": "code",
   "execution_count": 3,
   "id": "fabdff3e",
   "metadata": {
    "scrolled": false
   },
   "outputs": [
    {
     "data": {
      "text/plain": [
       "(404, 13)"
      ]
     },
     "execution_count": 3,
     "metadata": {},
     "output_type": "execute_result"
    }
   ],
   "source": [
    "train_data.shape"
   ]
  },
  {
   "cell_type": "markdown",
   "id": "bbb93fb3",
   "metadata": {},
   "source": [
    "### Normalization"
   ]
  },
  {
   "cell_type": "code",
   "execution_count": 4,
   "id": "2f1d2774",
   "metadata": {},
   "outputs": [],
   "source": [
    "# Create a MinMaxScaler object\n",
    "scaler = MinMaxScaler()\n",
    "\n",
    "# Fit the scaler on the training data\n",
    "scaler.fit(train_data)\n",
    "\n",
    "# Normalize the training data\n",
    "train_data_normalized = scaler.transform(train_data)\n",
    "\n",
    "# Normalize the test data using the same scaler\n",
    "test_data_normalized = scaler.transform(test_data)"
   ]
  },
  {
   "cell_type": "markdown",
   "id": "eeab99d4",
   "metadata": {},
   "source": [
    "# Hold-out Validation"
   ]
  },
  {
   "cell_type": "code",
   "execution_count": 5,
   "id": "a70e1fae",
   "metadata": {},
   "outputs": [],
   "source": [
    "num_validation_samples = 50"
   ]
  },
  {
   "cell_type": "code",
   "execution_count": 6,
   "id": "5f83489a",
   "metadata": {},
   "outputs": [],
   "source": [
    "np.random.shuffle(train_data_normalized)"
   ]
  },
  {
   "cell_type": "code",
   "execution_count": 7,
   "id": "cef853be",
   "metadata": {},
   "outputs": [
    {
     "data": {
      "text/plain": [
       "((354, 13), (50, 13))"
      ]
     },
     "execution_count": 7,
     "metadata": {},
     "output_type": "execute_result"
    }
   ],
   "source": [
    "validation_data = train_data_normalized[:num_validation_samples]\n",
    "final_train_data = train_data_normalized[num_validation_samples:]\n",
    "final_train_data.shape,  validation_data.shape"
   ]
  },
  {
   "cell_type": "code",
   "execution_count": 8,
   "id": "4d9dec5e",
   "metadata": {},
   "outputs": [
    {
     "data": {
      "text/plain": [
       "(354,)"
      ]
     },
     "execution_count": 8,
     "metadata": {},
     "output_type": "execute_result"
    }
   ],
   "source": [
    "final_train_targets = train_targets[num_validation_samples:]\n",
    "final_train_targets.shape"
   ]
  },
  {
   "cell_type": "code",
   "execution_count": 9,
   "id": "e6f5cc66",
   "metadata": {},
   "outputs": [
    {
     "data": {
      "text/plain": [
       "(50,)"
      ]
     },
     "execution_count": 9,
     "metadata": {},
     "output_type": "execute_result"
    }
   ],
   "source": [
    "target_validation_data = train_targets[:num_validation_samples]\n",
    "target_validation_data.shape"
   ]
  },
  {
   "cell_type": "code",
   "execution_count": 10,
   "id": "5951b56c",
   "metadata": {},
   "outputs": [],
   "source": [
    "def get_model():\n",
    "    model = models.Sequential()\n",
    "    model.add(layers.Dense(64, activation='relu', input_shape = (final_train_data.shape[1],)))\n",
    "    model.add(layers.Dense(64, activation='relu'))\n",
    "    model.add(layers.Dense(1))\n",
    "    model.compile(optimizer='rmsprop', loss='mse', metrics = ['mae'])\n",
    "    return model"
   ]
  },
  {
   "cell_type": "code",
   "execution_count": 11,
   "id": "d6097ec5",
   "metadata": {
    "scrolled": true
   },
   "outputs": [
    {
     "name": "stdout",
     "output_type": "stream",
     "text": [
      "Epoch 1/40\n",
      "23/23 [==============================] - 1s 19ms/step - loss: 550.0576 - mae: 21.5396 - val_loss: 429.0368 - val_mae: 18.7199\n",
      "Epoch 2/40\n",
      "23/23 [==============================] - 0s 5ms/step - loss: 411.4131 - mae: 18.0529 - val_loss: 268.8276 - val_mae: 13.9162\n",
      "Epoch 3/40\n",
      "23/23 [==============================] - 0s 5ms/step - loss: 247.8347 - mae: 12.7449 - val_loss: 140.2421 - val_mae: 8.8443\n",
      "Epoch 4/40\n",
      "23/23 [==============================] - 0s 6ms/step - loss: 137.1097 - mae: 8.6304 - val_loss: 77.7565 - val_mae: 6.5837\n",
      "Epoch 5/40\n",
      "23/23 [==============================] - 0s 5ms/step - loss: 107.3173 - mae: 7.5730 - val_loss: 74.3744 - val_mae: 6.8231\n",
      "Epoch 6/40\n",
      "23/23 [==============================] - 0s 6ms/step - loss: 100.5567 - mae: 7.3551 - val_loss: 75.2602 - val_mae: 6.9190\n",
      "Epoch 7/40\n",
      "23/23 [==============================] - 0s 6ms/step - loss: 96.8682 - mae: 7.2480 - val_loss: 72.9685 - val_mae: 6.2043\n",
      "Epoch 8/40\n",
      "23/23 [==============================] - 0s 9ms/step - loss: 93.5362 - mae: 6.9749 - val_loss: 73.7743 - val_mae: 6.1626\n",
      "Epoch 9/40\n",
      "23/23 [==============================] - 0s 7ms/step - loss: 91.8839 - mae: 6.9827 - val_loss: 75.8597 - val_mae: 6.0539\n",
      "Epoch 10/40\n",
      "23/23 [==============================] - 0s 6ms/step - loss: 89.4232 - mae: 6.7083 - val_loss: 79.5443 - val_mae: 7.0609\n",
      "Epoch 11/40\n",
      "23/23 [==============================] - 0s 7ms/step - loss: 88.7814 - mae: 6.8717 - val_loss: 78.7221 - val_mae: 6.8462\n",
      "Epoch 12/40\n",
      "23/23 [==============================] - 0s 7ms/step - loss: 88.4118 - mae: 6.8883 - val_loss: 78.0414 - val_mae: 6.5861\n",
      "Epoch 13/40\n",
      "23/23 [==============================] - 0s 6ms/step - loss: 87.3332 - mae: 6.8349 - val_loss: 85.1632 - val_mae: 7.4597\n",
      "Epoch 14/40\n",
      "23/23 [==============================] - 0s 7ms/step - loss: 86.8152 - mae: 6.9151 - val_loss: 78.9240 - val_mae: 6.4809\n",
      "Epoch 15/40\n",
      "23/23 [==============================] - 0s 6ms/step - loss: 87.3371 - mae: 6.8257 - val_loss: 79.3330 - val_mae: 6.5067\n",
      "Epoch 16/40\n",
      "23/23 [==============================] - 0s 5ms/step - loss: 86.8143 - mae: 6.8331 - val_loss: 79.6910 - val_mae: 6.2694\n",
      "Epoch 17/40\n",
      "23/23 [==============================] - 0s 5ms/step - loss: 86.6936 - mae: 6.7612 - val_loss: 82.4329 - val_mae: 6.9960\n",
      "Epoch 18/40\n",
      "23/23 [==============================] - 0s 5ms/step - loss: 86.1566 - mae: 6.8625 - val_loss: 82.0285 - val_mae: 6.9110\n",
      "Epoch 19/40\n",
      "23/23 [==============================] - 0s 6ms/step - loss: 85.9223 - mae: 6.8506 - val_loss: 80.2655 - val_mae: 6.5075\n",
      "Epoch 20/40\n",
      "23/23 [==============================] - 0s 5ms/step - loss: 86.2826 - mae: 6.8128 - val_loss: 80.7940 - val_mae: 6.5865\n",
      "Epoch 21/40\n",
      "23/23 [==============================] - 0s 5ms/step - loss: 85.5381 - mae: 6.7767 - val_loss: 82.1403 - val_mae: 6.8836\n",
      "Epoch 22/40\n",
      "23/23 [==============================] - 0s 5ms/step - loss: 86.0548 - mae: 6.8156 - val_loss: 82.0952 - val_mae: 6.8516\n",
      "Epoch 23/40\n",
      "23/23 [==============================] - 0s 5ms/step - loss: 85.4156 - mae: 6.7927 - val_loss: 81.9487 - val_mae: 6.7973\n",
      "Epoch 24/40\n",
      "23/23 [==============================] - 0s 5ms/step - loss: 84.5672 - mae: 6.7390 - val_loss: 84.3231 - val_mae: 7.1462\n",
      "Epoch 25/40\n",
      "23/23 [==============================] - 0s 5ms/step - loss: 83.8482 - mae: 6.8840 - val_loss: 80.4381 - val_mae: 6.1945\n",
      "Epoch 26/40\n",
      "23/23 [==============================] - 0s 4ms/step - loss: 85.3883 - mae: 6.7596 - val_loss: 79.7891 - val_mae: 6.3807\n",
      "Epoch 27/40\n",
      "23/23 [==============================] - 0s 5ms/step - loss: 85.1348 - mae: 6.7253 - val_loss: 85.0786 - val_mae: 7.1811\n",
      "Epoch 28/40\n",
      "23/23 [==============================] - 0s 5ms/step - loss: 84.1608 - mae: 6.8341 - val_loss: 80.6436 - val_mae: 6.3626\n",
      "Epoch 29/40\n",
      "23/23 [==============================] - 0s 5ms/step - loss: 84.4834 - mae: 6.6746 - val_loss: 84.5685 - val_mae: 7.0677\n",
      "Epoch 30/40\n",
      "23/23 [==============================] - 0s 6ms/step - loss: 84.2301 - mae: 6.7784 - val_loss: 84.3617 - val_mae: 6.9789\n",
      "Epoch 31/40\n",
      "23/23 [==============================] - 0s 6ms/step - loss: 84.8962 - mae: 6.8053 - val_loss: 82.1500 - val_mae: 6.4862\n",
      "Epoch 32/40\n",
      "23/23 [==============================] - 0s 7ms/step - loss: 84.3043 - mae: 6.7406 - val_loss: 81.8790 - val_mae: 6.4227\n",
      "Epoch 33/40\n",
      "23/23 [==============================] - 0s 6ms/step - loss: 84.5896 - mae: 6.7112 - val_loss: 84.8242 - val_mae: 7.0693\n",
      "Epoch 34/40\n",
      "23/23 [==============================] - 0s 6ms/step - loss: 83.9882 - mae: 6.7838 - val_loss: 81.7749 - val_mae: 6.5497\n",
      "Epoch 35/40\n",
      "23/23 [==============================] - 0s 5ms/step - loss: 83.8149 - mae: 6.7012 - val_loss: 88.5065 - val_mae: 7.4945\n",
      "Epoch 36/40\n",
      "23/23 [==============================] - 0s 5ms/step - loss: 83.5203 - mae: 6.8717 - val_loss: 81.0184 - val_mae: 6.5325\n",
      "Epoch 37/40\n",
      "23/23 [==============================] - 0s 6ms/step - loss: 83.9868 - mae: 6.7196 - val_loss: 80.5539 - val_mae: 6.4174\n",
      "Epoch 38/40\n",
      "23/23 [==============================] - 0s 5ms/step - loss: 84.1863 - mae: 6.7013 - val_loss: 85.9013 - val_mae: 7.2286\n",
      "Epoch 39/40\n",
      "23/23 [==============================] - 0s 5ms/step - loss: 83.7473 - mae: 6.7760 - val_loss: 83.3650 - val_mae: 6.8317\n",
      "Epoch 40/40\n",
      "23/23 [==============================] - 0s 5ms/step - loss: 83.0318 - mae: 6.6331 - val_loss: 90.1919 - val_mae: 7.6638\n"
     ]
    }
   ],
   "source": [
    "model= get_model()\n",
    "\n",
    "# Train the model\n",
    "epochs = 40\n",
    "batch_size = 16\n",
    "\n",
    "history = model.fit(final_train_data, final_train_targets, validation_data=(validation_data, target_validation_data), epochs=epochs, batch_size=batch_size)"
   ]
  },
  {
   "cell_type": "code",
   "execution_count": 25,
   "id": "5496e85a",
   "metadata": {},
   "outputs": [
    {
     "name": "stdout",
     "output_type": "stream",
     "text": [
      "4/4 [==============================] - 0s 5ms/step - loss: 86.7708 - mae: 7.1395\n"
     ]
    },
    {
     "data": {
      "text/plain": [
       "[86.7707748413086, 7.139461517333984]"
      ]
     },
     "execution_count": 25,
     "metadata": {},
     "output_type": "execute_result"
    }
   ],
   "source": [
    "test_score=model.evaluate(test_data_normalized, test_targets)\n",
    "test_score"
   ]
  },
  {
   "cell_type": "markdown",
   "id": "950b68da",
   "metadata": {},
   "source": [
    "## Ploting"
   ]
  },
  {
   "cell_type": "code",
   "execution_count": 12,
   "id": "26f08198",
   "metadata": {},
   "outputs": [
    {
     "data": {
      "text/plain": [
       "dict_keys(['loss', 'mae', 'val_loss', 'val_mae'])"
      ]
     },
     "execution_count": 12,
     "metadata": {},
     "output_type": "execute_result"
    }
   ],
   "source": [
    "history_dict = history.history\n",
    "history_dict.keys()"
   ]
  },
  {
   "cell_type": "code",
   "execution_count": 13,
   "id": "feaf2069",
   "metadata": {},
   "outputs": [],
   "source": [
    "train_losses = history_dict['loss']\n",
    "train_mae = history_dict['mae']\n",
    "val_losses = history_dict['val_loss']\n",
    "val_mae = history_dict['val_mae']\n",
    "epochs = range(1, len(val_mae)+1)"
   ]
  },
  {
   "cell_type": "code",
   "execution_count": 14,
   "id": "1f9307ba",
   "metadata": {
    "scrolled": true
   },
   "outputs": [
    {
     "data": {
      "text/plain": [
       "<matplotlib.legend.Legend at 0x25eb1dbba30>"
      ]
     },
     "execution_count": 14,
     "metadata": {},
     "output_type": "execute_result"
    },
    {
     "data": {
      "image/png": "[encoded data removed]",
      "text/plain": [
       "<Figure size 640x480 with 1 Axes>"
      ]
     },
     "metadata": {},
     "output_type": "display_data"
    }
   ],
   "source": [
    "plt.plot(epochs, train_losses, 'bo', label='Training loss')\n",
    "plt.plot(epochs, val_losses, 'b', label= 'Validation loss')\n",
    "plt.title('Training and Validation loss')\n",
    "plt.xlabel('Epochs')\n",
    "plt.ylabel('Loss')\n",
    "plt.legend()"
   ]
  },
  {
   "cell_type": "code",
   "execution_count": 15,
   "id": "9e6aa329",
   "metadata": {
    "scrolled": true
   },
   "outputs": [
    {
     "data": {
      "text/plain": [
       "<matplotlib.legend.Legend at 0x25eb2e9eec0>"
      ]
     },
     "execution_count": 15,
     "metadata": {},
     "output_type": "execute_result"
    },
    {
     "data": {
      "image/png": "[encoded data removed]",
      "text/plain": [
       "<Figure size 640x480 with 1 Axes>"
      ]
     },
     "metadata": {},
     "output_type": "display_data"
    }
   ],
   "source": [
    "plt.clf()\n",
    "plt.plot(epochs, train_mae, 'bo', label='Training MAE')\n",
    "plt.plot(epochs, val_mae, 'b', label= 'Validation MAE')\n",
    "plt.title('Training and Validation MAE')\n",
    "plt.xlabel('Epochs')\n",
    "plt.ylabel('MAE')\n",
    "plt.legend()"
   ]
  },
  {
   "cell_type": "code",
   "execution_count": null,
   "id": "e81a12f4",
   "metadata": {},
   "outputs": [],
   "source": []
  },
  {
   "cell_type": "markdown",
   "id": "206c21d7",
   "metadata": {},
   "source": [
    "## Final Model"
   ]
  },
  {
   "cell_type": "code",
   "execution_count": 22,
   "id": "3a7168bb",
   "metadata": {
    "scrolled": true
   },
   "outputs": [
    {
     "name": "stdout",
     "output_type": "stream",
     "text": [
      "Epoch 1/35\n",
      "23/23 [==============================] - 1s 4ms/step - loss: 526.5774 - mae: 20.9504\n",
      "Epoch 2/35\n",
      "23/23 [==============================] - 0s 3ms/step - loss: 368.4770 - mae: 16.6865\n",
      "Epoch 3/35\n",
      "23/23 [==============================] - 0s 3ms/step - loss: 199.0014 - mae: 11.0171\n",
      "Epoch 4/35\n",
      "23/23 [==============================] - 0s 3ms/step - loss: 121.6050 - mae: 8.0685\n",
      "Epoch 5/35\n",
      "23/23 [==============================] - 0s 2ms/step - loss: 104.8343 - mae: 7.5131\n",
      "Epoch 6/35\n",
      "23/23 [==============================] - 0s 2ms/step - loss: 98.6687 - mae: 7.1773\n",
      "Epoch 7/35\n",
      "23/23 [==============================] - 0s 2ms/step - loss: 94.4780 - mae: 7.1493\n",
      "Epoch 8/35\n",
      "23/23 [==============================] - 0s 3ms/step - loss: 91.1685 - mae: 6.9691\n",
      "Epoch 9/35\n",
      "23/23 [==============================] - 0s 2ms/step - loss: 89.8299 - mae: 6.9092\n",
      "Epoch 10/35\n",
      "23/23 [==============================] - 0s 3ms/step - loss: 87.9038 - mae: 6.8509\n",
      "Epoch 11/35\n",
      "23/23 [==============================] - 0s 3ms/step - loss: 87.5593 - mae: 6.8073\n",
      "Epoch 12/35\n",
      "23/23 [==============================] - 0s 3ms/step - loss: 86.6902 - mae: 6.7745\n",
      "Epoch 13/35\n",
      "23/23 [==============================] - 0s 2ms/step - loss: 87.2202 - mae: 6.7627\n",
      "Epoch 14/35\n",
      "23/23 [==============================] - 0s 2ms/step - loss: 86.4436 - mae: 6.8323\n",
      "Epoch 15/35\n",
      "23/23 [==============================] - 0s 2ms/step - loss: 86.6555 - mae: 6.7157\n",
      "Epoch 16/35\n",
      "23/23 [==============================] - 0s 3ms/step - loss: 85.9861 - mae: 6.7892\n",
      "Epoch 17/35\n",
      "23/23 [==============================] - 0s 2ms/step - loss: 86.4550 - mae: 6.7206\n",
      "Epoch 18/35\n",
      "23/23 [==============================] - 0s 2ms/step - loss: 86.0754 - mae: 6.8182\n",
      "Epoch 19/35\n",
      "23/23 [==============================] - 0s 2ms/step - loss: 85.4710 - mae: 6.7791\n",
      "Epoch 20/35\n",
      "23/23 [==============================] - 0s 2ms/step - loss: 85.2859 - mae: 6.8013\n",
      "Epoch 21/35\n",
      "23/23 [==============================] - 0s 3ms/step - loss: 85.1582 - mae: 6.8273\n",
      "Epoch 22/35\n",
      "23/23 [==============================] - 0s 3ms/step - loss: 85.2838 - mae: 6.7897\n",
      "Epoch 23/35\n",
      "23/23 [==============================] - 0s 3ms/step - loss: 84.5223 - mae: 6.7913\n",
      "Epoch 24/35\n",
      "23/23 [==============================] - 0s 2ms/step - loss: 84.5365 - mae: 6.9192\n",
      "Epoch 25/35\n",
      "23/23 [==============================] - 0s 3ms/step - loss: 85.4073 - mae: 6.7184\n",
      "Epoch 26/35\n",
      "23/23 [==============================] - 0s 3ms/step - loss: 84.8701 - mae: 6.8563\n",
      "Epoch 27/35\n",
      "23/23 [==============================] - 0s 2ms/step - loss: 84.8195 - mae: 6.7558\n",
      "Epoch 28/35\n",
      "23/23 [==============================] - 0s 3ms/step - loss: 84.7150 - mae: 6.7556\n",
      "Epoch 29/35\n",
      "23/23 [==============================] - 0s 2ms/step - loss: 82.1142 - mae: 6.5775\n",
      "Epoch 30/35\n",
      "23/23 [==============================] - 0s 3ms/step - loss: 84.3074 - mae: 6.9904\n",
      "Epoch 31/35\n",
      "23/23 [==============================] - 0s 3ms/step - loss: 84.4317 - mae: 6.7241\n",
      "Epoch 32/35\n",
      "23/23 [==============================] - 0s 3ms/step - loss: 84.7134 - mae: 6.7011\n",
      "Epoch 33/35\n",
      "23/23 [==============================] - 0s 3ms/step - loss: 84.5550 - mae: 6.7007\n",
      "Epoch 34/35\n",
      "23/23 [==============================] - 0s 3ms/step - loss: 84.1012 - mae: 6.7771\n",
      "Epoch 35/35\n",
      "23/23 [==============================] - 0s 3ms/step - loss: 83.7133 - mae: 6.6862\n"
     ]
    },
    {
     "data": {
      "text/plain": [
       "<keras.callbacks.History at 0x25ee64194b0>"
      ]
     },
     "execution_count": 22,
     "metadata": {},
     "output_type": "execute_result"
    }
   ],
   "source": [
    "final_model = get_model() \n",
    "final_model.fit(final_train_data, final_train_targets, epochs=35, batch_size=16)"
   ]
  },
  {
   "cell_type": "code",
   "execution_count": 23,
   "id": "f65ace4e",
   "metadata": {},
   "outputs": [
    {
     "name": "stdout",
     "output_type": "stream",
     "text": [
      "4/4 [==============================] - 0s 4ms/step - loss: 81.7284 - mae: 6.7466\n"
     ]
    },
    {
     "data": {
      "text/plain": [
       "[81.7283935546875, 6.7465500831604]"
      ]
     },
     "execution_count": 23,
     "metadata": {},
     "output_type": "execute_result"
    }
   ],
   "source": [
    "test_score=final_model.evaluate(test_data_normalized, test_targets)\n",
    "test_score"
   ]
  }
 ],
 "metadata": {
  "kernelspec": {
   "display_name": "Python 3 (ipykernel)",
   "language": "python",
   "name": "python3"
  },
  "language_info": {
   "codemirror_mode": {
    "name": "ipython",
    "version": 3
   },
   "file_extension": ".py",
   "mimetype": "text/x-python",
   "name": "python",
   "nbconvert_exporter": "python",
   "pygments_lexer": "ipython3",
   "version": "3.10.9"
  }
 },
 "nbformat": 4,
 "nbformat_minor": 5
}
