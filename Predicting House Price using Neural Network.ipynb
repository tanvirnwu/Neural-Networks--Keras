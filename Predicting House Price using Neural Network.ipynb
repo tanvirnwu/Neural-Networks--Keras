{
 "cells": [
  {
   "cell_type": "code",
   "execution_count": 55,
   "id": "65020dda",
   "metadata": {},
   "outputs": [],
   "source": [
    "from keras.datasets import boston_housing\n",
    "import numpy as np\n",
    "import pandas as pd\n",
    "from keras import models\n",
    "from keras import layers\n",
    "import matplotlib.pyplot as plt\n",
    "from sklearn.preprocessing import MinMaxScaler\n",
    "from sklearn.model_selection import KFold"
   ]
  },
  {
   "cell_type": "code",
   "execution_count": 30,
   "id": "0dcb4652",
   "metadata": {},
   "outputs": [],
   "source": [
    "(train_data, train_targets), (test_data, test_targets) = boston_housing.load_data()"
   ]
  },
  {
   "cell_type": "code",
   "execution_count": 31,
   "id": "d138d438",
   "metadata": {},
   "outputs": [
    {
     "data": {
      "text/plain": [
       "array([[1.80846e+01, 0.00000e+00, 1.81000e+01, ..., 2.02000e+01,\n",
       "        2.72500e+01, 2.90500e+01],\n",
       "       [1.23290e-01, 0.00000e+00, 1.00100e+01, ..., 1.78000e+01,\n",
       "        3.94950e+02, 1.62100e+01],\n",
       "       [5.49700e-02, 0.00000e+00, 5.19000e+00, ..., 2.02000e+01,\n",
       "        3.96900e+02, 9.74000e+00],\n",
       "       ...,\n",
       "       [1.83377e+00, 0.00000e+00, 1.95800e+01, ..., 1.47000e+01,\n",
       "        3.89610e+02, 1.92000e+00],\n",
       "       [3.58090e-01, 0.00000e+00, 6.20000e+00, ..., 1.74000e+01,\n",
       "        3.91700e+02, 9.71000e+00],\n",
       "       [2.92400e+00, 0.00000e+00, 1.95800e+01, ..., 1.47000e+01,\n",
       "        2.40160e+02, 9.81000e+00]])"
      ]
     },
     "execution_count": 31,
     "metadata": {},
     "output_type": "execute_result"
    }
   ],
   "source": [
    "test_data"
   ]
  },
  {
   "cell_type": "code",
   "execution_count": 33,
   "id": "c207c80d",
   "metadata": {},
   "outputs": [
    {
     "data": {
      "text/plain": [
       "((404, 13), (102, 13))"
      ]
     },
     "execution_count": 33,
     "metadata": {},
     "output_type": "execute_result"
    }
   ],
   "source": [
    "train_data.shape, test_data.shape"
   ]
  },
  {
   "cell_type": "code",
   "execution_count": 34,
   "id": "c3c70969",
   "metadata": {},
   "outputs": [
    {
     "data": {
      "text/plain": [
       "array([15.2, 42.3, 50. , 21.1, 17.7, 18.5, 11.3, 15.6, 15.6, 14.4])"
      ]
     },
     "execution_count": 34,
     "metadata": {},
     "output_type": "execute_result"
    }
   ],
   "source": [
    "train_targets[:10]"
   ]
  },
  {
   "cell_type": "code",
   "execution_count": 35,
   "id": "9aa4a1a3",
   "metadata": {},
   "outputs": [],
   "source": [
    "my_np_array = np.array(train_targets)"
   ]
  },
  {
   "cell_type": "code",
   "execution_count": 36,
   "id": "f4126cc0",
   "metadata": {},
   "outputs": [],
   "source": [
    "df_target = pd.DataFrame(my_np_array)"
   ]
  },
  {
   "cell_type": "code",
   "execution_count": 37,
   "id": "ed199b57",
   "metadata": {
    "scrolled": true
   },
   "outputs": [
    {
     "data": {
      "text/html": [
       "<div>\n",
       "<style scoped>\n",
       "    .dataframe tbody tr th:only-of-type {\n",
       "        vertical-align: middle;\n",
       "    }\n",
       "\n",
       "    .dataframe tbody tr th {\n",
       "        vertical-align: top;\n",
       "    }\n",
       "\n",
       "    .dataframe thead th {\n",
       "        text-align: right;\n",
       "    }\n",
       "</style>\n",
       "<table border=\"1\" class=\"dataframe\">\n",
       "  <thead>\n",
       "    <tr style=\"text-align: right;\">\n",
       "      <th></th>\n",
       "      <th>0</th>\n",
       "    </tr>\n",
       "  </thead>\n",
       "  <tbody>\n",
       "    <tr>\n",
       "      <th>count</th>\n",
       "      <td>404.000000</td>\n",
       "    </tr>\n",
       "    <tr>\n",
       "      <th>mean</th>\n",
       "      <td>22.395050</td>\n",
       "    </tr>\n",
       "    <tr>\n",
       "      <th>std</th>\n",
       "      <td>9.210442</td>\n",
       "    </tr>\n",
       "    <tr>\n",
       "      <th>min</th>\n",
       "      <td>5.000000</td>\n",
       "    </tr>\n",
       "    <tr>\n",
       "      <th>25%</th>\n",
       "      <td>16.675000</td>\n",
       "    </tr>\n",
       "    <tr>\n",
       "      <th>50%</th>\n",
       "      <td>20.750000</td>\n",
       "    </tr>\n",
       "    <tr>\n",
       "      <th>75%</th>\n",
       "      <td>24.800000</td>\n",
       "    </tr>\n",
       "    <tr>\n",
       "      <th>max</th>\n",
       "      <td>50.000000</td>\n",
       "    </tr>\n",
       "  </tbody>\n",
       "</table>\n",
       "</div>"
      ],
      "text/plain": [
       "                0\n",
       "count  404.000000\n",
       "mean    22.395050\n",
       "std      9.210442\n",
       "min      5.000000\n",
       "25%     16.675000\n",
       "50%     20.750000\n",
       "75%     24.800000\n",
       "max     50.000000"
      ]
     },
     "execution_count": 37,
     "metadata": {},
     "output_type": "execute_result"
    }
   ],
   "source": [
    "df_target.describe()"
   ]
  },
  {
   "cell_type": "markdown",
   "id": "2c097cf1",
   "metadata": {},
   "source": [
    "## Manually Normalization"
   ]
  },
  {
   "cell_type": "code",
   "execution_count": 38,
   "id": "aaca4650",
   "metadata": {},
   "outputs": [],
   "source": [
    "mean = train_data.mean(axis=0)"
   ]
  },
  {
   "cell_type": "code",
   "execution_count": 39,
   "id": "b5069e7f",
   "metadata": {
    "scrolled": true
   },
   "outputs": [
    {
     "data": {
      "text/plain": [
       "array([3.74511057e+00, 1.14801980e+01, 1.11044307e+01, 6.18811881e-02,\n",
       "       5.57355941e-01, 6.26708168e+00, 6.90106436e+01, 3.74027079e+00,\n",
       "       9.44059406e+00, 4.05898515e+02, 1.84759901e+01, 3.54783168e+02,\n",
       "       1.27408168e+01])"
      ]
     },
     "execution_count": 39,
     "metadata": {},
     "output_type": "execute_result"
    }
   ],
   "source": [
    "mean"
   ]
  },
  {
   "cell_type": "code",
   "execution_count": 40,
   "id": "197651ab",
   "metadata": {},
   "outputs": [],
   "source": [
    "train_data-=mean"
   ]
  },
  {
   "cell_type": "code",
   "execution_count": 41,
   "id": "99101e67",
   "metadata": {},
   "outputs": [],
   "source": [
    "std = train_data.std(axis=0)"
   ]
  },
  {
   "cell_type": "code",
   "execution_count": 42,
   "id": "8d1c2882",
   "metadata": {},
   "outputs": [],
   "source": [
    "train_data/=std"
   ]
  },
  {
   "cell_type": "code",
   "execution_count": 43,
   "id": "009f810f",
   "metadata": {},
   "outputs": [],
   "source": [
    "test_data-=mean"
   ]
  },
  {
   "cell_type": "code",
   "execution_count": 44,
   "id": "f832e3d9",
   "metadata": {},
   "outputs": [],
   "source": [
    "test_data/=std"
   ]
  },
  {
   "cell_type": "code",
   "execution_count": 45,
   "id": "51d3fd32",
   "metadata": {
    "scrolled": true
   },
   "outputs": [
    {
     "data": {
      "text/plain": [
       "array([[ 1.55369355, -0.48361547,  1.0283258 , ...,  0.78447637,\n",
       "        -3.48459553,  2.25092074],\n",
       "       [-0.39242675, -0.48361547, -0.16087773, ..., -0.30759583,\n",
       "         0.42733126,  0.47880119],\n",
       "       [-0.39982927, -0.48361547, -0.86940196, ...,  0.78447637,\n",
       "         0.44807713, -0.41415936],\n",
       "       ...,\n",
       "       [-0.20709507, -0.48361547,  1.24588095, ..., -1.71818909,\n",
       "         0.37051949, -1.49344089],\n",
       "       [-0.36698601, -0.48361547, -0.72093526, ..., -0.48960787,\n",
       "         0.39275481, -0.41829982],\n",
       "       [-0.0889679 , -0.48361547,  1.24588095, ..., -1.71818909,\n",
       "        -1.21946544, -0.40449827]])"
      ]
     },
     "execution_count": 45,
     "metadata": {},
     "output_type": "execute_result"
    }
   ],
   "source": [
    "test_data"
   ]
  },
  {
   "cell_type": "markdown",
   "id": "e5dc6948",
   "metadata": {},
   "source": [
    "## Normalization using MinMaxScaler()"
   ]
  },
  {
   "cell_type": "code",
   "execution_count": 46,
   "id": "548169dc",
   "metadata": {},
   "outputs": [],
   "source": [
    "(train_data, train_targets), (test_data, test_targets) = boston_housing.load_data()"
   ]
  },
  {
   "cell_type": "code",
   "execution_count": 49,
   "id": "55deadde",
   "metadata": {},
   "outputs": [],
   "source": [
    "# Create a MinMaxScaler object\n",
    "scaler = MinMaxScaler()\n",
    "\n",
    "# Fit the scaler on the training data\n",
    "scaler.fit(train_data)\n",
    "\n",
    "# Normalize the training data\n",
    "train_data_normalized = scaler.transform(train_data)\n",
    "\n",
    "# Normalize the test data using the same scaler\n",
    "test_data_normalized = scaler.transform(test_data)"
   ]
  },
  {
   "cell_type": "code",
   "execution_count": 50,
   "id": "4e6bb333",
   "metadata": {},
   "outputs": [
    {
     "name": "stdout",
     "output_type": "stream",
     "text": [
      "[[1.37816304e-02 0.00000000e+00 2.81524927e-01 ... 8.93617021e-01\n",
      "  1.00000000e+00 4.68818985e-01]\n",
      " [1.73654275e-04 8.25000000e-01 5.75513196e-02 ... 2.23404255e-01\n",
      "  9.96167230e-01 3.80794702e-02]\n",
      " [5.49837765e-02 0.00000000e+00 6.46627566e-01 ... 8.08510638e-01\n",
      "  9.46089061e-01 4.22185430e-02]\n",
      " ...\n",
      " [3.18534767e-04 3.50000000e-01 2.05278592e-01 ... 4.57446809e-01\n",
      "  9.12627969e-01 1.68322296e-01]\n",
      " [2.40852297e-02 0.00000000e+00 7.00879765e-01 ... 2.23404255e-01\n",
      "  6.59715568e-01 3.87969095e-01]\n",
      " [9.07048543e-05 6.00000000e-01 9.05425220e-02 ... 3.19148936e-01\n",
      "  9.49064501e-01 7.31236203e-02]]\n"
     ]
    }
   ],
   "source": [
    "# Print the normalized data\n",
    "print(train_data_normalized)"
   ]
  },
  {
   "cell_type": "code",
   "execution_count": 51,
   "id": "8421f420",
   "metadata": {
    "scrolled": true
   },
   "outputs": [
    {
     "name": "stdout",
     "output_type": "stream",
     "text": [
      "[[2.03195508e-01 0.00000000e+00 6.46627566e-01 ... 8.08510638e-01\n",
      "  6.79055928e-02 7.53863135e-01]\n",
      " [1.31471460e-03 0.00000000e+00 3.50073314e-01 ... 5.53191489e-01\n",
      "  9.95082959e-01 3.99558499e-01]\n",
      " [5.46814270e-04 0.00000000e+00 1.73387097e-01 ... 8.08510638e-01\n",
      "  1.00000000e+00 2.21026490e-01]\n",
      " ...\n",
      " [2.05400974e-02 0.00000000e+00 7.00879765e-01 ... 2.23404255e-01\n",
      "  9.81617832e-01 5.24282561e-03]\n",
      " [3.95380999e-03 0.00000000e+00 2.10410557e-01 ... 5.10638298e-01\n",
      "  9.86887891e-01 2.20198675e-01]\n",
      " [3.27940197e-02 0.00000000e+00 7.00879765e-01 ... 2.23404255e-01\n",
      "  6.04770790e-01 2.22958057e-01]]\n"
     ]
    }
   ],
   "source": [
    "print(test_data_normalized)"
   ]
  },
  {
   "cell_type": "code",
   "execution_count": 52,
   "id": "a97b1e1a",
   "metadata": {},
   "outputs": [
    {
     "data": {
      "text/plain": [
       "(404, 13)"
      ]
     },
     "execution_count": 52,
     "metadata": {},
     "output_type": "execute_result"
    }
   ],
   "source": [
    "train_data_normalized.shape"
   ]
  },
  {
   "cell_type": "markdown",
   "id": "d8524a22",
   "metadata": {},
   "source": [
    "## Building the Model"
   ]
  },
  {
   "cell_type": "code",
   "execution_count": 54,
   "id": "5919b11f",
   "metadata": {},
   "outputs": [],
   "source": [
    "def build_model():\n",
    "    model = models.Sequential()\n",
    "    model.add(layers.Dense(64, activation='relu', input_shape = (train_data_normalized.shape[1],)))\n",
    "    model.add(layers.Dense(64, activation='relu'))\n",
    "    model.add(layers.Dense(1))\n",
    "    model.compile(optimizer='rmsprop', loss='mse', metrics = ['mae'])\n",
    "    return model"
   ]
  },
  {
   "cell_type": "markdown",
   "id": "16cf8041",
   "metadata": {},
   "source": [
    "### K-fold CrossValidation"
   ]
  },
  {
   "cell_type": "code",
   "execution_count": 57,
   "id": "9faeb9b4",
   "metadata": {},
   "outputs": [],
   "source": [
    "# Define the number of folds\n",
    "k = 4\n",
    "\n",
    "# Initialize lists to store the evaluation scores\n",
    "all_mae_scores = []\n",
    "\n",
    "# Perform k-fold cross-validation\n",
    "kfold = KFold(n_splits = k)\n",
    "\n",
    "for train_index, val_index in kfold.split(train_data_normalized):\n",
    "    # Split the data into training and validation sets\n",
    "    partial_train_data, val_data = train_data_normalized[train_index], train_data_normalized[val_index]\n",
    "    partial_train_targets, val_targets = train_targets[train_index], train_targets[val_index]\n",
    "\n",
    "    # Build the model\n",
    "    model = build_model()\n",
    "\n",
    "    # Train the model\n",
    "    history = model.fit(partial_train_data, partial_train_targets, epochs=100, batch_size=1, verbose=0,\n",
    "                        validation_data=(val_data, val_targets))\n",
    "\n",
    "    # Get the MAE from the history object\n",
    "    val_mae = history.history['val_mae']\n",
    "\n",
    "    # Store the evaluation score\n",
    "    all_mae_scores.append(val_mae)"
   ]
  },
  {
   "cell_type": "code",
   "execution_count": 58,
   "id": "a8742bc5",
   "metadata": {},
   "outputs": [
    {
     "name": "stdout",
     "output_type": "stream",
     "text": [
      "Mean MAE: 2.828928308188915\n"
     ]
    }
   ],
   "source": [
    "# Compute the mean of the evaluation scores\n",
    "mean_mae = np.mean(all_mae_scores)\n",
    "print(\"Mean MAE:\", mean_mae)"
   ]
  },
  {
   "cell_type": "markdown",
   "id": "cbf35ebb",
   "metadata": {},
   "source": [
    "## Try with 500 epochs"
   ]
  },
  {
   "cell_type": "code",
   "execution_count": 59,
   "id": "5e1918b6",
   "metadata": {},
   "outputs": [],
   "source": [
    "# Define the number of folds\n",
    "k = 4\n",
    "\n",
    "# Initialize lists to store the evaluation scores\n",
    "all_mae_histories = []\n",
    "\n",
    "# Perform k-fold cross-validation\n",
    "kfold = KFold(n_splits=k)\n",
    "for train_index, val_index in kfold.split(train_data_normalized):\n",
    "    # Split the data into training and validation sets\n",
    "    partial_train_data, val_data = train_data_normalized[train_index], train_data_normalized[val_index]\n",
    "    partial_train_targets, val_targets = train_targets[train_index], train_targets[val_index]\n",
    "\n",
    "    # Build the model\n",
    "    model = build_model()\n",
    "\n",
    "    # Train the model\n",
    "    history = model.fit(partial_train_data, partial_train_targets, epochs=500, batch_size=1, verbose=0,\n",
    "                        validation_data=(val_data, val_targets))\n",
    "\n",
    "    # Get the MAE scores for each epoch\n",
    "    val_mae_history = history.history['val_mae']\n",
    "\n",
    "    # Store the MAE scores for this fold\n",
    "    all_mae_histories.append(val_mae_history)"
   ]
  },
  {
   "cell_type": "code",
   "execution_count": 60,
   "id": "308f4f2a",
   "metadata": {},
   "outputs": [
    {
     "name": "stdout",
     "output_type": "stream",
     "text": [
      "Average MAE Scores for Each Epoch:\n",
      "[6.80689299 5.3136133  4.9233247  4.53816777 4.37994432 4.15035248\n",
      " 3.8266747  3.63952219 3.74362409 3.40894288 3.29493934 3.51894474\n",
      " 3.23411298 3.23952907 3.2128588  3.14536852 3.14204377 3.05162615\n",
      " 3.20934433 2.97394449 3.09296948 2.90551281 2.94332343 2.97623324\n",
      " 2.97418725 2.83852482 2.89726365 3.03225857 2.8545078  2.63229793\n",
      " 2.72902215 2.65972924 2.60914689 2.69559652 2.87478775 2.77057934\n",
      " 2.68632072 2.53688592 2.51791799 2.58254659 2.48746204 2.54521823\n",
      " 2.57698226 2.56879419 2.58442241 2.5604412  2.66566783 2.48531801\n",
      " 2.4291653  2.63801444 2.5910877  2.65823591 2.46215492 2.42949224\n",
      " 2.63008326 2.4321391  2.43103731 2.42283016 2.5564574  2.80141515\n",
      " 2.46038604 2.46785879 2.48368257 2.36366135 2.49440151 2.3796919\n",
      " 2.43185753 2.53896594 2.35533553 2.49327129 2.3981306  2.42201465\n",
      " 2.38925248 2.36586392 2.48943555 2.30560195 2.37444973 2.34823895\n",
      " 2.33440524 2.33856422 2.40365338 2.43405861 2.41567698 2.34090418\n",
      " 2.33631355 2.39569086 2.66764849 2.30295363 2.40777814 2.28499472\n",
      " 2.20211345 2.23849189 2.24097353 2.32951659 2.3624987  2.45317322\n",
      " 2.19802111 2.28678781 2.30775172 2.25991023 2.30171692 2.27488273\n",
      " 2.33507431 2.27128386 2.26651621 2.42377341 2.19201392 2.25940531\n",
      " 2.204202   2.27553672 2.44397163 2.36192721 2.29198971 2.21787563\n",
      " 2.335262   2.31779122 2.44620723 2.16459572 2.31873685 2.15949768\n",
      " 2.30096608 2.2035965  2.60372147 2.2363354  2.18240732 2.17176017\n",
      " 2.18198669 2.1879853  2.08465707 2.18935892 2.21291366 2.16612798\n",
      " 2.25066531 2.10544181 2.12302136 2.22547776 2.20191479 2.23288634\n",
      " 2.28262308 2.23679143 2.11220458 2.10955375 2.10830039 2.25566015\n",
      " 2.11503592 2.18825018 2.46061519 2.17235494 2.3452301  2.21487015\n",
      " 2.1536319  2.12071168 2.15525872 2.1208654  2.14695257 2.19841075\n",
      " 2.19974107 2.110535   2.1764333  2.09351194 2.19279081 2.30445704\n",
      " 2.3081978  2.14581603 2.30716434 2.13080993 2.01471099 2.06116107\n",
      " 2.15484184 2.12940979 2.12877616 2.15015173 2.0249666  2.19322327\n",
      " 2.3182171  2.168414   2.05465069 2.14316154 2.12746474 2.3316524\n",
      " 2.19544104 2.1481967  2.05151498 2.21441698 2.0603438  2.06010431\n",
      " 2.05573612 2.18993556 2.30178326 2.0576179  2.28015345 2.07458422\n",
      " 2.1001493  2.17513493 2.17291832 2.23999655 2.15798703 2.08108419\n",
      " 2.11431476 2.08267802 2.06344831 2.12782353 2.14950868 2.07947829\n",
      " 2.15918338 2.08183852 2.15077275 2.08468109 2.17463237 2.21125662\n",
      " 2.08349389 1.99818662 2.32246822 2.07076833 2.09002542 2.19440234\n",
      " 2.01162741 2.11265561 2.23453707 2.01925823 2.05449247 2.06086314\n",
      " 2.00494459 2.09965071 2.16433987 2.12775743 2.34921145 2.27370375\n",
      " 2.06175676 1.98394123 2.04616696 2.13031498 2.10802633 2.12112904\n",
      " 2.46029109 1.98184136 2.08676922 2.23529807 2.10948223 2.22387692\n",
      " 2.26621187 2.20973507 2.15762794 2.02911922 1.98623428 2.20566744\n",
      " 2.13288462 2.25466534 2.10875458 2.08359334 2.17283261 2.07390222\n",
      " 2.23562765 2.04203051 2.10866481 2.10173464 2.04349822 2.08821413\n",
      " 2.11905056 1.99237359 2.09268895 2.03118193 2.15856388 2.08485341\n",
      " 2.2706933  2.01990843 2.11738828 2.11089727 2.07989874 2.11725923\n",
      " 2.03476113 2.11459422 2.17899418 2.03835139 2.34585774 2.27112216\n",
      " 2.10459611 2.04896551 2.15804395 2.00033137 2.11672187 2.03420356\n",
      " 2.19384095 2.18618122 2.06140044 2.0348554  2.02949435 2.03168473\n",
      " 2.10446921 2.17522699 2.14084202 2.18514541 2.04696929 2.02415457\n",
      " 2.21477941 2.01948345 2.10332304 2.01751417 2.02487576 2.05634475\n",
      " 2.06629878 2.15026444 2.06760824 2.10168567 2.20100525 2.20817393\n",
      " 2.02211669 2.07152212 2.03599364 2.05325967 2.09353694 2.23737651\n",
      " 2.04681933 2.04280797 2.22647619 2.11245039 2.26178652 2.25310025\n",
      " 2.11004129 2.03721938 2.04548195 2.06173739 2.07527977 2.08996546\n",
      " 2.26846078 2.20483088 2.04783857 2.14989012 2.08646914 2.1452159\n",
      " 2.11034244 2.30237287 2.3607977  2.03994057 2.06250113 2.01244637\n",
      " 2.0810234  2.12136507 2.11655539 2.13805786 2.16962013 2.35059288\n",
      " 2.20399863 2.09674954 2.08368355 2.13402259 2.15543583 2.22345737\n",
      " 2.02435079 2.10453823 2.16457412 2.1672655  2.09020561 2.20677617\n",
      " 2.13206536 2.04810932 2.07872528 2.06583363 2.12456334 2.15553135\n",
      " 2.09195018 2.23405159 2.12971294 2.30763423 2.06007388 2.25159746\n",
      " 2.11983135 2.09408858 2.11688027 2.01048282 2.14134663 2.1443052\n",
      " 2.09511164 2.10204372 2.24946567 2.06552556 2.06792858 2.12321785\n",
      " 2.15092039 2.07861003 2.08921349 2.08283105 2.16793972 2.30636263\n",
      " 2.14575827 2.17936665 2.19667146 2.17631066 2.11775029 2.22616735\n",
      " 2.05733109 2.04090768 2.211456   2.36879522 2.27137107 2.13986114\n",
      " 2.15222511 2.08477703 2.12352976 2.24234664 2.10436228 2.05112612\n",
      " 2.13400629 2.06285399 2.17766184 2.10952812 2.21256393 2.13945985\n",
      " 2.15419894 2.0295558  2.1783933  2.21004173 2.04764193 2.02237824\n",
      " 2.0585106  2.0027265  2.0527803  2.20890051 2.24521208 2.19424364\n",
      " 2.16388968 2.17248586 2.10721412 2.18407378 2.11551777 2.0971081\n",
      " 2.01355067 2.14572278 2.11812758 2.20106623 2.13971707 2.17261985\n",
      " 2.13484892 2.16582507 2.26049489 2.04370382 2.13325498 2.18213922\n",
      " 2.08226874 2.05817431 2.19406688 2.07166165 2.08671215 2.16810086\n",
      " 2.09112099 2.17230353 2.19010425 2.12783608 2.25230762 2.17999437\n",
      " 2.10249883 2.0973314  2.16736624 2.20893589 2.02341822 2.26306975\n",
      " 2.10667956 2.2395938  2.1785472  2.09008297 2.06957215 2.11680406\n",
      " 2.1357165  2.02827811 2.12853581 2.03808436 2.26400974 2.06388164\n",
      " 2.12850922 2.11479041 2.17005202 2.15305588 2.13596743 2.07495698\n",
      " 2.07138586 2.02963835 2.11219761 2.18877083 2.03526014 2.07697693\n",
      " 2.03102008 2.04257506 2.092742   2.11609319 2.21404162 2.16412055\n",
      " 2.04663244 2.12165365 2.1140106  2.20043755 2.06273866 2.23497722\n",
      " 2.14313912 2.13498977 2.13680565 2.24489984 2.12111169 2.20043159\n",
      " 2.31514364 2.0666694 ]\n"
     ]
    }
   ],
   "source": [
    "# Compute the average MAE score for each epoch across all folds\n",
    "average_mae_history = np.mean(all_mae_histories, axis=0)\n",
    "\n",
    "print(\"Average MAE Scores for Each Epoch:\")\n",
    "print(average_mae_history)"
   ]
  },
  {
   "cell_type": "code",
   "execution_count": 61,
   "id": "5dd9dea5",
   "metadata": {},
   "outputs": [
    {
     "data": {
      "image/png": "[encoded data removed]",
      "text/plain": [
       "<Figure size 640x480 with 1 Axes>"
      ]
     },
     "metadata": {},
     "output_type": "display_data"
    }
   ],
   "source": [
    "# Plot the validation MAE scores\n",
    "plt.plot(range(1, len(average_mae_history) + 1), average_mae_history)\n",
    "plt.title('Validation MAE with respect to Epoch')\n",
    "plt.xlabel('Epoch')\n",
    "plt.ylabel('Validation MAE')\n",
    "plt.show()"
   ]
  },
  {
   "cell_type": "markdown",
   "id": "a6af3c4c",
   "metadata": {},
   "source": [
    "### Smothing the Curve"
   ]
  },
  {
   "cell_type": "code",
   "execution_count": 106,
   "id": "d40fff1f",
   "metadata": {},
   "outputs": [],
   "source": [
    "def smooth_curve(points, factor=0.9):\n",
    "    smoothed_points = []\n",
    "    for point in points:\n",
    "        if smoothed_points:\n",
    "            previous = smoothed_points[-1]\n",
    "            smoothed_points.append(previous*factor+point*(1 - factor))\n",
    "        else:\n",
    "            smoothed_points.append(point)\n",
    "    return smoothed_points\n",
    "\n",
    "smooth_mae_history = smooth_curve(average_mae_history[10:])"
   ]
  },
  {
   "cell_type": "code",
   "execution_count": 107,
   "id": "052dfe74",
   "metadata": {
    "scrolled": true
   },
   "outputs": [
    {
     "data": {
      "image/png": "[encoded data removed]",
      "text/plain": [
       "<Figure size 640x480 with 1 Axes>"
      ]
     },
     "metadata": {},
     "output_type": "display_data"
    }
   ],
   "source": [
    "plt.clf()\n",
    "plt.plot(range(1, len(smooth_mae_history) + 1), smooth_mae_history)\n",
    "plt.title('Validation MAE with respect to Epoch')\n",
    "plt.xlabel('Epoch')\n",
    "plt.ylabel('Validation MAE')\n",
    "plt.show()"
   ]
  },
  {
   "cell_type": "markdown",
   "id": "52bee54c",
   "metadata": {},
   "source": [
    "### Training the Final Model\n",
    "\n",
    "From the above graph we can see that the Validation MAE is loawest at the epoch number of around 295, so we we use the number of epochs as 295 in our final model."
   ]
  },
  {
   "cell_type": "code",
   "execution_count": 100,
   "id": "ee4af96d",
   "metadata": {},
   "outputs": [
    {
     "data": {
      "text/plain": [
       "<keras.callbacks.History at 0x22b42133550>"
      ]
     },
     "execution_count": 100,
     "metadata": {},
     "output_type": "execute_result"
    }
   ],
   "source": [
    "model = build_model()\n",
    "model.fit(train_data, train_targets, epochs= 295, batch_size=16, verbose=0)"
   ]
  },
  {
   "cell_type": "code",
   "execution_count": 101,
   "id": "8fcf6643",
   "metadata": {
    "scrolled": false
   },
   "outputs": [
    {
     "name": "stdout",
     "output_type": "stream",
     "text": [
      "4/4 [==============================] - 0s 4ms/step - loss: 22.7490 - mae: 3.4278\n"
     ]
    }
   ],
   "source": [
    "test_mse_score, test_mae_score = model.evaluate(test_data, test_targets)"
   ]
  }
 ],
 "metadata": {
  "kernelspec": {
   "display_name": "Python 3 (ipykernel)",
   "language": "python",
   "name": "python3"
  },
  "language_info": {
   "codemirror_mode": {
    "name": "ipython",
    "version": 3
   },
   "file_extension": ".py",
   "mimetype": "text/x-python",
   "name": "python",
   "nbconvert_exporter": "python",
   "pygments_lexer": "ipython3",
   "version": "3.10.9"
  }
 },
 "nbformat": 4,
 "nbformat_minor": 5
}
