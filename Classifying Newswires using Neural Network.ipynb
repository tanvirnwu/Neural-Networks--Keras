{
 "cells": [
  {
   "cell_type": "markdown",
   "id": "9f6ef591",
   "metadata": {},
   "source": [
    "### Reuters Dataset"
   ]
  },
  {
   "cell_type": "code",
   "execution_count": 1,
   "id": "66dd8ac5",
   "metadata": {},
   "outputs": [],
   "source": [
    "from keras.datasets import reuters\n",
    "import numpy as np\n",
    "from keras import models\n",
    "from keras import layers\n",
    "import matplotlib.pyplot as plt"
   ]
  },
  {
   "cell_type": "code",
   "execution_count": 2,
   "id": "a07d9143",
   "metadata": {},
   "outputs": [],
   "source": [
    "(train_data, train_labels), (test_data, test_labels) = reuters.load_data(num_words=10000)"
   ]
  },
  {
   "cell_type": "code",
   "execution_count": 3,
   "id": "2487714e",
   "metadata": {},
   "outputs": [
    {
     "data": {
      "text/plain": [
       "8982"
      ]
     },
     "execution_count": 3,
     "metadata": {},
     "output_type": "execute_result"
    }
   ],
   "source": [
    "len(train_data)"
   ]
  },
  {
   "cell_type": "code",
   "execution_count": 4,
   "id": "605571b6",
   "metadata": {},
   "outputs": [
    {
     "data": {
      "text/plain": [
       "2246"
      ]
     },
     "execution_count": 4,
     "metadata": {},
     "output_type": "execute_result"
    }
   ],
   "source": [
    "len(test_data)"
   ]
  },
  {
   "cell_type": "code",
   "execution_count": 5,
   "id": "8a9eea66",
   "metadata": {},
   "outputs": [
    {
     "data": {
      "text/plain": [
       "[1,\n",
       " 245,\n",
       " 273,\n",
       " 207,\n",
       " 156,\n",
       " 53,\n",
       " 74,\n",
       " 160,\n",
       " 26,\n",
       " 14,\n",
       " 46,\n",
       " 296,\n",
       " 26,\n",
       " 39,\n",
       " 74,\n",
       " 2979,\n",
       " 3554,\n",
       " 14,\n",
       " 46,\n",
       " 4689,\n",
       " 4329,\n",
       " 86,\n",
       " 61,\n",
       " 3499,\n",
       " 4795,\n",
       " 14,\n",
       " 61,\n",
       " 451,\n",
       " 4329,\n",
       " 17,\n",
       " 12]"
      ]
     },
     "execution_count": 5,
     "metadata": {},
     "output_type": "execute_result"
    }
   ],
   "source": [
    "train_data[10]"
   ]
  },
  {
   "cell_type": "code",
   "execution_count": 6,
   "id": "615d005e",
   "metadata": {},
   "outputs": [
    {
     "name": "stdout",
     "output_type": "stream",
     "text": [
      "? ? corp said it reached an agreement in principal covering the acquisition of the company by privately held ? financial corp the agreement calls for ? to make a self tender offer for all of its outstanding stock at a price of 22 dlrs per share in cash ? headquartered in los angeles develops manages and ? real estate ? also said reuter 3\n"
     ]
    }
   ],
   "source": [
    "# Reverse word index mapping\n",
    "word_index = reuters.get_word_index()\n",
    "reverse_word_index = {index: word for word, index in word_index.items()}\n",
    "\n",
    "# Choose a review to decode\n",
    "review_index = 12\n",
    "review = train_data[review_index]\n",
    "\n",
    "# Decode the review\n",
    "decoded_review = ' '.join(reverse_word_index.get(index - 3, '?') for index in review)\n",
    "\n",
    "# Print the decoded review\n",
    "print(decoded_review)"
   ]
  },
  {
   "cell_type": "code",
   "execution_count": 7,
   "id": "69369866",
   "metadata": {},
   "outputs": [
    {
     "data": {
      "text/plain": [
       "4"
      ]
     },
     "execution_count": 7,
     "metadata": {},
     "output_type": "execute_result"
    }
   ],
   "source": [
    "train_labels[12]"
   ]
  },
  {
   "cell_type": "code",
   "execution_count": 8,
   "id": "9afe83c7",
   "metadata": {},
   "outputs": [
    {
     "name": "stdout",
     "output_type": "stream",
     "text": [
      "? ? ? said as a result of its december acquisition of space co it expects earnings per share in 1987 of 1 15 to 1 30 dlrs per share up from 70 cts in 1986 the company said pretax net should rise to nine to 10 mln dlrs from six mln dlrs in 1986 and rental operation revenues to 19 to 22 mln dlrs from 12 5 mln dlrs it said cash flow per share this year should be 2 50 to three dlrs reuter 3\n"
     ]
    }
   ],
   "source": [
    "#same things in another way\n",
    "word_index = reuters.get_word_index()\n",
    "reverse_word_index = dict(\n",
    "                           [(value, key) for (key, value) in word_index.items()] \n",
    "                            )\n",
    "# Decode the review\n",
    "decoded_review = ' '.join(reverse_word_index.get(index - 3, '?') for index in train_data[0])\n",
    "\n",
    "# Print the decoded review\n",
    "print(decoded_review)"
   ]
  },
  {
   "cell_type": "code",
   "execution_count": 9,
   "id": "3784fab7",
   "metadata": {},
   "outputs": [
    {
     "data": {
      "text/plain": [
       "3"
      ]
     },
     "execution_count": 9,
     "metadata": {},
     "output_type": "execute_result"
    }
   ],
   "source": [
    "train_labels[0]"
   ]
  },
  {
   "cell_type": "markdown",
   "id": "df2b021a",
   "metadata": {},
   "source": [
    "### Vectorizing the Data"
   ]
  },
  {
   "cell_type": "code",
   "execution_count": 10,
   "id": "8dadd84b",
   "metadata": {},
   "outputs": [],
   "source": [
    "def vectorize_sequences (sequences, dimension = 10000):\n",
    "    results = np.zeros((len(sequences), dimension))\n",
    "    for i, sequence in enumerate(sequences):\n",
    "        results[i, sequence] =1\n",
    "    return results"
   ]
  },
  {
   "cell_type": "code",
   "execution_count": 11,
   "id": "5798a70b",
   "metadata": {},
   "outputs": [],
   "source": [
    "x_train = vectorize_sequences(train_data)\n",
    "x_test = vectorize_sequences(test_data)"
   ]
  },
  {
   "cell_type": "code",
   "execution_count": 12,
   "id": "14d32d26",
   "metadata": {},
   "outputs": [
    {
     "data": {
      "text/plain": [
       "(8982, 10000)"
      ]
     },
     "execution_count": 12,
     "metadata": {},
     "output_type": "execute_result"
    }
   ],
   "source": [
    "x_train.shape"
   ]
  },
  {
   "cell_type": "code",
   "execution_count": 13,
   "id": "01ec22f8",
   "metadata": {
    "scrolled": true
   },
   "outputs": [
    {
     "data": {
      "text/plain": [
       "array([ 3,  4,  3, ..., 25,  3, 25], dtype=int64)"
      ]
     },
     "execution_count": 13,
     "metadata": {},
     "output_type": "execute_result"
    }
   ],
   "source": [
    "train_labels"
   ]
  },
  {
   "cell_type": "markdown",
   "id": "62c9a22e",
   "metadata": {},
   "source": [
    "#### One Hot Encoding"
   ]
  },
  {
   "cell_type": "code",
   "execution_count": 14,
   "id": "c789d848",
   "metadata": {},
   "outputs": [],
   "source": [
    "def to_one_hot(labels, dimension=46):\n",
    "    results = np.zeros((len(labels), dimension))\n",
    "    for i, label in enumerate(labels):\n",
    "        results[i,label] = 1\n",
    "    return results"
   ]
  },
  {
   "cell_type": "code",
   "execution_count": 15,
   "id": "126ffdc5",
   "metadata": {},
   "outputs": [],
   "source": [
    "one_hot_train_labels = to_one_hot(train_labels)\n",
    "one_hot_test_labels = to_one_hot(test_labels)"
   ]
  },
  {
   "cell_type": "code",
   "execution_count": 16,
   "id": "38a63913",
   "metadata": {
    "scrolled": true
   },
   "outputs": [
    {
     "data": {
      "text/plain": [
       "array([[0., 0., 0., ..., 0., 0., 0.],\n",
       "       [0., 0., 0., ..., 0., 0., 0.],\n",
       "       [0., 0., 0., ..., 0., 0., 0.],\n",
       "       ...,\n",
       "       [0., 0., 0., ..., 0., 0., 0.],\n",
       "       [0., 0., 0., ..., 0., 0., 0.],\n",
       "       [0., 0., 0., ..., 0., 0., 0.]])"
      ]
     },
     "execution_count": 16,
     "metadata": {},
     "output_type": "execute_result"
    }
   ],
   "source": [
    "one_hot_train_labels"
   ]
  },
  {
   "cell_type": "markdown",
   "id": "1d4c70dc",
   "metadata": {},
   "source": [
    "#### We can do the same thing using the Keras"
   ]
  },
  {
   "cell_type": "code",
   "execution_count": 17,
   "id": "7cafdaaa",
   "metadata": {},
   "outputs": [],
   "source": [
    "from keras.utils.np_utils import to_categorical\n",
    "\n",
    "one_hot_train_labels = to_categorical(train_labels)\n",
    "one_hot_test_labels = to_categorical(test_labels)"
   ]
  },
  {
   "cell_type": "code",
   "execution_count": 18,
   "id": "65d7b971",
   "metadata": {},
   "outputs": [
    {
     "data": {
      "text/plain": [
       "array([[0., 0., 0., ..., 0., 0., 0.],\n",
       "       [0., 0., 0., ..., 0., 0., 0.],\n",
       "       [0., 0., 0., ..., 0., 0., 0.],\n",
       "       ...,\n",
       "       [0., 0., 0., ..., 0., 0., 0.],\n",
       "       [0., 0., 0., ..., 0., 0., 0.],\n",
       "       [0., 0., 0., ..., 0., 0., 0.]], dtype=float32)"
      ]
     },
     "execution_count": 18,
     "metadata": {},
     "output_type": "execute_result"
    }
   ],
   "source": [
    "one_hot_train_labels"
   ]
  },
  {
   "cell_type": "markdown",
   "id": "246c46b3",
   "metadata": {},
   "source": [
    "### Building NN Model"
   ]
  },
  {
   "cell_type": "code",
   "execution_count": 19,
   "id": "d3fd20ee",
   "metadata": {},
   "outputs": [],
   "source": [
    "model = models.Sequential()\n",
    "model.add(layers.Dense(64, activation='relu', input_shape=(10000,)))\n",
    "model.add(layers.Dense(64, activation='relu'))\n",
    "model.add(layers.Dense(46, activation='softmax'))"
   ]
  },
  {
   "cell_type": "code",
   "execution_count": 20,
   "id": "a9d5d5f0",
   "metadata": {},
   "outputs": [],
   "source": [
    "model.compile(optimizer ='rmsprop', loss='categorical_crossentropy', metrics=['accuracy'])"
   ]
  },
  {
   "cell_type": "code",
   "execution_count": 21,
   "id": "fd5db8f8",
   "metadata": {},
   "outputs": [
    {
     "data": {
      "text/plain": [
       "(1000, 10000)"
      ]
     },
     "execution_count": 21,
     "metadata": {},
     "output_type": "execute_result"
    }
   ],
   "source": [
    "x_val = x_train[:1000]\n",
    "partial_x_train = x_train[1000:]\n",
    "\n",
    "x_val.shape"
   ]
  },
  {
   "cell_type": "code",
   "execution_count": 22,
   "id": "b5978b8f",
   "metadata": {},
   "outputs": [
    {
     "data": {
      "text/plain": [
       "(1000, 46)"
      ]
     },
     "execution_count": 22,
     "metadata": {},
     "output_type": "execute_result"
    }
   ],
   "source": [
    "y_val = one_hot_train_labels[:1000]\n",
    "partial_y_train= one_hot_train_labels[1000:]\n",
    "\n",
    "y_val.shape"
   ]
  },
  {
   "cell_type": "code",
   "execution_count": 23,
   "id": "a0a3e472",
   "metadata": {},
   "outputs": [
    {
     "name": "stdout",
     "output_type": "stream",
     "text": [
      "Epoch 1/20\n",
      "16/16 [==============================] - 2s 80ms/step - loss: 2.9847 - accuracy: 0.3755 - val_loss: 2.0806 - val_accuracy: 0.5550\n",
      "Epoch 2/20\n",
      "16/16 [==============================] - 1s 47ms/step - loss: 1.7267 - accuracy: 0.6468 - val_loss: 1.4820 - val_accuracy: 0.6820\n",
      "Epoch 3/20\n",
      "16/16 [==============================] - 1s 58ms/step - loss: 1.2813 - accuracy: 0.7285 - val_loss: 1.2541 - val_accuracy: 0.7320\n",
      "Epoch 4/20\n",
      "16/16 [==============================] - 0s 25ms/step - loss: 1.0445 - accuracy: 0.7752 - val_loss: 1.1491 - val_accuracy: 0.7440\n",
      "Epoch 5/20\n",
      "16/16 [==============================] - 0s 19ms/step - loss: 0.8773 - accuracy: 0.8120 - val_loss: 1.0594 - val_accuracy: 0.7710\n",
      "Epoch 6/20\n",
      "16/16 [==============================] - 0s 17ms/step - loss: 0.7464 - accuracy: 0.8346 - val_loss: 0.9941 - val_accuracy: 0.7880\n",
      "Epoch 7/20\n",
      "16/16 [==============================] - 0s 15ms/step - loss: 0.6319 - accuracy: 0.8643 - val_loss: 0.9520 - val_accuracy: 0.8030\n",
      "Epoch 8/20\n",
      "16/16 [==============================] - 0s 15ms/step - loss: 0.5357 - accuracy: 0.8875 - val_loss: 0.9167 - val_accuracy: 0.8010\n",
      "Epoch 9/20\n",
      "16/16 [==============================] - 0s 15ms/step - loss: 0.4581 - accuracy: 0.9014 - val_loss: 0.8927 - val_accuracy: 0.8180\n",
      "Epoch 10/20\n",
      "16/16 [==============================] - 0s 16ms/step - loss: 0.3924 - accuracy: 0.9163 - val_loss: 0.8794 - val_accuracy: 0.8200\n",
      "Epoch 11/20\n",
      "16/16 [==============================] - 0s 16ms/step - loss: 0.3399 - accuracy: 0.9295 - val_loss: 0.8951 - val_accuracy: 0.8090\n",
      "Epoch 12/20\n",
      "16/16 [==============================] - 0s 16ms/step - loss: 0.2906 - accuracy: 0.9364 - val_loss: 0.8662 - val_accuracy: 0.8210\n",
      "Epoch 13/20\n",
      "16/16 [==============================] - 0s 16ms/step - loss: 0.2546 - accuracy: 0.9421 - val_loss: 0.8907 - val_accuracy: 0.8070\n",
      "Epoch 14/20\n",
      "16/16 [==============================] - 0s 16ms/step - loss: 0.2289 - accuracy: 0.9486 - val_loss: 0.8581 - val_accuracy: 0.8240\n",
      "Epoch 15/20\n",
      "16/16 [==============================] - 0s 17ms/step - loss: 0.2064 - accuracy: 0.9484 - val_loss: 0.9124 - val_accuracy: 0.8090\n",
      "Epoch 16/20\n",
      "16/16 [==============================] - 0s 17ms/step - loss: 0.1885 - accuracy: 0.9523 - val_loss: 0.9150 - val_accuracy: 0.8060\n",
      "Epoch 17/20\n",
      "16/16 [==============================] - 0s 17ms/step - loss: 0.1740 - accuracy: 0.9516 - val_loss: 0.9236 - val_accuracy: 0.8170\n",
      "Epoch 18/20\n",
      "16/16 [==============================] - 0s 17ms/step - loss: 0.1634 - accuracy: 0.9553 - val_loss: 0.8934 - val_accuracy: 0.8210\n",
      "Epoch 19/20\n",
      "16/16 [==============================] - 0s 18ms/step - loss: 0.1500 - accuracy: 0.9551 - val_loss: 0.9308 - val_accuracy: 0.8140\n",
      "Epoch 20/20\n",
      "16/16 [==============================] - 0s 17ms/step - loss: 0.1455 - accuracy: 0.9569 - val_loss: 0.9355 - val_accuracy: 0.8100\n"
     ]
    }
   ],
   "source": [
    "history = model.fit(partial_x_train, partial_y_train, epochs=20, batch_size=512, validation_data=(x_val, y_val))"
   ]
  },
  {
   "cell_type": "code",
   "execution_count": 24,
   "id": "547b3f71",
   "metadata": {},
   "outputs": [
    {
     "name": "stdout",
     "output_type": "stream",
     "text": [
      "71/71 [==============================] - 0s 4ms/step - loss: 1.0564 - accuracy: 0.7903\n"
     ]
    },
    {
     "data": {
      "text/plain": [
       "[1.0563995838165283, 0.7902938723564148]"
      ]
     },
     "execution_count": 24,
     "metadata": {},
     "output_type": "execute_result"
    }
   ],
   "source": [
    "results = model.evaluate(x_test, one_hot_test_labels)\n",
    "results"
   ]
  },
  {
   "cell_type": "markdown",
   "id": "440c7080",
   "metadata": {},
   "source": [
    "### Plotting the training loss and validation loss"
   ]
  },
  {
   "cell_type": "code",
   "execution_count": 25,
   "id": "c3aef83b",
   "metadata": {},
   "outputs": [
    {
     "data": {
      "text/plain": [
       "dict_keys(['loss', 'accuracy', 'val_loss', 'val_accuracy'])"
      ]
     },
     "execution_count": 25,
     "metadata": {},
     "output_type": "execute_result"
    }
   ],
   "source": [
    "history_dict = history.history\n",
    "history_dict.keys()"
   ]
  },
  {
   "cell_type": "code",
   "execution_count": 26,
   "id": "6079d383",
   "metadata": {},
   "outputs": [],
   "source": [
    "train_losses = history_dict['loss']\n",
    "val_losses = history_dict['val_loss']\n",
    "train_acc = history_dict['accuracy']\n",
    "val_acc = history_dict['val_accuracy']\n",
    "epochs = range(1, len(val_acc)+1)"
   ]
  },
  {
   "cell_type": "code",
   "execution_count": 27,
   "id": "ece999b0",
   "metadata": {},
   "outputs": [
    {
     "data": {
      "text/plain": [
       "<matplotlib.legend.Legend at 0x2104e5638e0>"
      ]
     },
     "execution_count": 27,
     "metadata": {},
     "output_type": "execute_result"
    },
    {
     "data": {
      "image/png": "[encoded data removed]",
      "text/plain": [
       "<Figure size 640x480 with 1 Axes>"
      ]
     },
     "metadata": {},
     "output_type": "display_data"
    }
   ],
   "source": [
    "plt.plot(epochs, train_losses, 'bo', label='Training loss')\n",
    "plt.plot(epochs, val_losses, 'b', label= 'Validation loss')\n",
    "plt.title('Training and Validation loss')\n",
    "plt.xlabel('Epochs')\n",
    "plt.ylabel('Loss')\n",
    "plt.legend()"
   ]
  },
  {
   "cell_type": "markdown",
   "id": "82c68a9e",
   "metadata": {},
   "source": [
    "### Training Accuracy vs Validation Accuracy"
   ]
  },
  {
   "cell_type": "code",
   "execution_count": 28,
   "id": "a19ef8eb",
   "metadata": {},
   "outputs": [
    {
     "data": {
      "text/plain": [
       "<Figure size 640x480 with 0 Axes>"
      ]
     },
     "metadata": {},
     "output_type": "display_data"
    }
   ],
   "source": [
    "plt.clf()"
   ]
  },
  {
   "cell_type": "code",
   "execution_count": 29,
   "id": "cc35ff61",
   "metadata": {},
   "outputs": [
    {
     "data": {
      "text/plain": [
       "<matplotlib.legend.Legend at 0x2104e624d00>"
      ]
     },
     "execution_count": 29,
     "metadata": {},
     "output_type": "execute_result"
    },
    {
     "data": {
      "image/png": "[encoded data removed]",
      "text/plain": [
       "<Figure size 640x480 with 1 Axes>"
      ]
     },
     "metadata": {},
     "output_type": "display_data"
    }
   ],
   "source": [
    "plt.plot(epochs, train_acc, 'bo', label='Training Accuracy')\n",
    "plt.plot(epochs, val_acc, 'b', label= 'Validation Accuracy')\n",
    "plt.title('Training and Validation Accuracy')\n",
    "plt.xlabel('Epochs')\n",
    "plt.ylabel('Accuracy')\n",
    "plt.legend()"
   ]
  },
  {
   "cell_type": "markdown",
   "id": "ae1b158b",
   "metadata": {},
   "source": [
    "#### Try with 9 epochs as the model is overfitting after the 9th epochs"
   ]
  },
  {
   "cell_type": "code",
   "execution_count": 30,
   "id": "2ac6c859",
   "metadata": {},
   "outputs": [],
   "source": [
    "model2 = models.Sequential()\n",
    "model2.add(layers.Dense(64, activation='relu', input_shape=(10000,)))\n",
    "model2.add(layers.Dense(64, activation='relu'))\n",
    "model2.add(layers.Dense(46, activation='softmax'))\n",
    "model2.compile(optimizer ='rmsprop', loss='categorical_crossentropy', metrics=['accuracy'])"
   ]
  },
  {
   "cell_type": "code",
   "execution_count": 31,
   "id": "8da04eae",
   "metadata": {},
   "outputs": [
    {
     "name": "stdout",
     "output_type": "stream",
     "text": [
      "Epoch 1/9\n",
      "16/16 [==============================] - 1s 27ms/step - loss: 2.7188 - accuracy: 0.5039 - val_loss: 1.8324 - val_accuracy: 0.6240\n",
      "Epoch 2/9\n",
      "16/16 [==============================] - 0s 22ms/step - loss: 1.5232 - accuracy: 0.6824 - val_loss: 1.3553 - val_accuracy: 0.7120\n",
      "Epoch 3/9\n",
      "16/16 [==============================] - 0s 15ms/step - loss: 1.1553 - accuracy: 0.7551 - val_loss: 1.1859 - val_accuracy: 0.7510\n",
      "Epoch 4/9\n",
      "16/16 [==============================] - 0s 17ms/step - loss: 0.9387 - accuracy: 0.8019 - val_loss: 1.0600 - val_accuracy: 0.7620\n",
      "Epoch 5/9\n",
      "16/16 [==============================] - 0s 16ms/step - loss: 0.7772 - accuracy: 0.8336 - val_loss: 0.9889 - val_accuracy: 0.8000\n",
      "Epoch 6/9\n",
      "16/16 [==============================] - 0s 18ms/step - loss: 0.6470 - accuracy: 0.8606 - val_loss: 0.9242 - val_accuracy: 0.8100\n",
      "Epoch 7/9\n",
      "16/16 [==============================] - 0s 16ms/step - loss: 0.5386 - accuracy: 0.8893 - val_loss: 0.9149 - val_accuracy: 0.8020\n",
      "Epoch 8/9\n",
      "16/16 [==============================] - 0s 19ms/step - loss: 0.4522 - accuracy: 0.9060 - val_loss: 0.8841 - val_accuracy: 0.8100\n",
      "Epoch 9/9\n",
      "16/16 [==============================] - 0s 15ms/step - loss: 0.3844 - accuracy: 0.9177 - val_loss: 0.8837 - val_accuracy: 0.8140\n"
     ]
    },
    {
     "data": {
      "text/plain": [
       "<keras.callbacks.History at 0x2104e6e5840>"
      ]
     },
     "execution_count": 31,
     "metadata": {},
     "output_type": "execute_result"
    }
   ],
   "source": [
    "model2.fit(partial_x_train, partial_y_train, epochs=9, batch_size=512, validation_data = (x_val, y_val))"
   ]
  },
  {
   "cell_type": "code",
   "execution_count": 32,
   "id": "eb903b79",
   "metadata": {
    "scrolled": true
   },
   "outputs": [
    {
     "name": "stdout",
     "output_type": "stream",
     "text": [
      "71/71 [==============================] - 0s 3ms/step - loss: 0.9479 - accuracy: 0.7863\n"
     ]
    },
    {
     "data": {
      "text/plain": [
       "[0.9478936791419983, 0.7862867116928101]"
      ]
     },
     "execution_count": 32,
     "metadata": {},
     "output_type": "execute_result"
    }
   ],
   "source": [
    "results = model2.evaluate(x_test, one_hot_test_labels)\n",
    "results"
   ]
  },
  {
   "cell_type": "code",
   "execution_count": 33,
   "id": "53d903c4",
   "metadata": {},
   "outputs": [
    {
     "data": {
      "text/plain": [
       "0.18210151380231523"
      ]
     },
     "execution_count": 33,
     "metadata": {},
     "output_type": "execute_result"
    }
   ],
   "source": [
    "import copy\n",
    "test_labels_copy = copy.copy(test_labels)\n",
    "np.random.shuffle(test_labels_copy)\n",
    "hits_array = np.array(test_labels) == np.array(test_labels_copy)\n",
    "float(np.sum(hits_array))/len(test_labels)"
   ]
  },
  {
   "cell_type": "markdown",
   "id": "a03190c5",
   "metadata": {},
   "source": [
    "### Generating Prediction on new data"
   ]
  },
  {
   "cell_type": "code",
   "execution_count": 34,
   "id": "2b4a347c",
   "metadata": {},
   "outputs": [
    {
     "name": "stdout",
     "output_type": "stream",
     "text": [
      "71/71 [==============================] - 0s 4ms/step\n"
     ]
    }
   ],
   "source": [
    "predictions = model2.predict(x_test) "
   ]
  },
  {
   "cell_type": "code",
   "execution_count": 35,
   "id": "f782427b",
   "metadata": {},
   "outputs": [
    {
     "data": {
      "text/plain": [
       "(46,)"
      ]
     },
     "execution_count": 35,
     "metadata": {},
     "output_type": "execute_result"
    }
   ],
   "source": [
    "predictions[0].shape "
   ]
  },
  {
   "cell_type": "code",
   "execution_count": 36,
   "id": "8d0e2c97",
   "metadata": {},
   "outputs": [
    {
     "data": {
      "text/plain": [
       "1.0000001"
      ]
     },
     "execution_count": 36,
     "metadata": {},
     "output_type": "execute_result"
    }
   ],
   "source": [
    "np.sum(predictions[0])"
   ]
  },
  {
   "cell_type": "code",
   "execution_count": 37,
   "id": "0f1ccb8c",
   "metadata": {},
   "outputs": [
    {
     "data": {
      "text/plain": [
       "3"
      ]
     },
     "execution_count": 37,
     "metadata": {},
     "output_type": "execute_result"
    }
   ],
   "source": [
    "np.argmax(predictions[0])"
   ]
  },
  {
   "cell_type": "markdown",
   "id": "d077aaf7",
   "metadata": {},
   "source": [
    "### Different way to handle the labels and loss function"
   ]
  },
  {
   "cell_type": "code",
   "execution_count": 38,
   "id": "67854225",
   "metadata": {},
   "outputs": [],
   "source": [
    "(train_data, train_labels), (test_data, test_labels) = reuters.load_data(num_words=10000)"
   ]
  },
  {
   "cell_type": "code",
   "execution_count": 39,
   "id": "87031840",
   "metadata": {},
   "outputs": [],
   "source": [
    "def vectorize_sequences (sequences, dimension = 10000):\n",
    "    results = np.zeros((len(sequences), dimension))\n",
    "    for i, sequence in enumerate(sequences):\n",
    "        results[i, sequence] =1\n",
    "    return results"
   ]
  },
  {
   "cell_type": "code",
   "execution_count": 40,
   "id": "05ce8f46",
   "metadata": {},
   "outputs": [],
   "source": [
    "x_train = vectorize_sequences(train_data)\n",
    "x_test = vectorize_sequences(test_data)"
   ]
  },
  {
   "cell_type": "code",
   "execution_count": 41,
   "id": "6b9ac923",
   "metadata": {},
   "outputs": [],
   "source": [
    "y_train = np.array(train_labels)\n",
    "y_test = np.array(test_labels)"
   ]
  },
  {
   "cell_type": "code",
   "execution_count": 42,
   "id": "7b0f3d07",
   "metadata": {},
   "outputs": [],
   "source": [
    "model3 = models.Sequential()\n",
    "model3.add(layers.Dense(64, activation='relu', input_shape=(10000,)))\n",
    "model3.add(layers.Dense(64, activation='relu'))\n",
    "model3.add(layers.Dense(46, activation='softmax'))\n",
    "model3.compile(optimizer ='rmsprop', loss='sparse_categorical_crossentropy', metrics=['accuracy'])"
   ]
  },
  {
   "cell_type": "code",
   "execution_count": 43,
   "id": "fd6e2ec7",
   "metadata": {
    "scrolled": true
   },
   "outputs": [
    {
     "name": "stdout",
     "output_type": "stream",
     "text": [
      "Epoch 1/9\n",
      "18/18 [==============================] - 1s 18ms/step - loss: 3.0067 - accuracy: 0.4012\n",
      "Epoch 2/9\n",
      "18/18 [==============================] - 0s 13ms/step - loss: 1.7253 - accuracy: 0.6587\n",
      "Epoch 3/9\n",
      "18/18 [==============================] - 0s 12ms/step - loss: 1.2644 - accuracy: 0.7298\n",
      "Epoch 4/9\n",
      "18/18 [==============================] - 0s 13ms/step - loss: 1.0210 - accuracy: 0.7850\n",
      "Epoch 5/9\n",
      "18/18 [==============================] - 0s 12ms/step - loss: 0.8474 - accuracy: 0.8222\n",
      "Epoch 6/9\n",
      "18/18 [==============================] - 0s 13ms/step - loss: 0.7037 - accuracy: 0.8508\n",
      "Epoch 7/9\n",
      "18/18 [==============================] - 0s 13ms/step - loss: 0.5930 - accuracy: 0.8737\n",
      "Epoch 8/9\n",
      "18/18 [==============================] - 0s 16ms/step - loss: 0.4968 - accuracy: 0.8962\n",
      "Epoch 9/9\n",
      "18/18 [==============================] - 0s 13ms/step - loss: 0.4263 - accuracy: 0.9122\n"
     ]
    },
    {
     "data": {
      "text/plain": [
       "<keras.callbacks.History at 0x2104e2d6650>"
      ]
     },
     "execution_count": 43,
     "metadata": {},
     "output_type": "execute_result"
    }
   ],
   "source": [
    "model3.fit(x_train, y_train, epochs=9, batch_size=512)"
   ]
  },
  {
   "cell_type": "code",
   "execution_count": 44,
   "id": "594e3260",
   "metadata": {},
   "outputs": [
    {
     "name": "stdout",
     "output_type": "stream",
     "text": [
      "71/71 [==============================] - 0s 4ms/step - loss: 0.9104 - accuracy: 0.7930\n"
     ]
    },
    {
     "data": {
      "text/plain": [
       "[0.9104333519935608, 0.792965292930603]"
      ]
     },
     "execution_count": 44,
     "metadata": {},
     "output_type": "execute_result"
    }
   ],
   "source": [
    "results = model3.evaluate(x_test, y_test)\n",
    "results"
   ]
  },
  {
   "cell_type": "markdown",
   "id": "ba565591",
   "metadata": {},
   "source": [
    "### Observe the changes inthe dimention of the intermediate hidden layer"
   ]
  },
  {
   "cell_type": "code",
   "execution_count": 45,
   "id": "65cdc127",
   "metadata": {},
   "outputs": [],
   "source": [
    "model4 = models.Sequential()\n",
    "model4.add(layers.Dense(64, activation='relu', input_shape=(10000,)))\n",
    "model4.add(layers.Dense(4, activation='relu'))\n",
    "model4.add(layers.Dense(46, activation='softmax'))\n",
    "model4.compile(optimizer ='rmsprop', loss='categorical_crossentropy', metrics=['accuracy'])"
   ]
  },
  {
   "cell_type": "code",
   "execution_count": 46,
   "id": "6f5075aa",
   "metadata": {},
   "outputs": [
    {
     "name": "stdout",
     "output_type": "stream",
     "text": [
      "Epoch 1/9\n",
      "16/16 [==============================] - 1s 34ms/step - loss: 3.7631 - accuracy: 0.0653 - val_loss: 3.6415 - val_accuracy: 0.0230\n",
      "Epoch 2/9\n",
      "16/16 [==============================] - 0s 18ms/step - loss: 3.5559 - accuracy: 0.2783 - val_loss: 3.4479 - val_accuracy: 0.2720\n",
      "Epoch 3/9\n",
      "16/16 [==============================] - 0s 16ms/step - loss: 3.3331 - accuracy: 0.1169 - val_loss: 3.2336 - val_accuracy: 0.1840\n",
      "Epoch 4/9\n",
      "16/16 [==============================] - 0s 16ms/step - loss: 3.1031 - accuracy: 0.2372 - val_loss: 3.0230 - val_accuracy: 0.2480\n",
      "Epoch 5/9\n",
      "16/16 [==============================] - 0s 16ms/step - loss: 2.8817 - accuracy: 0.2600 - val_loss: 2.8387 - val_accuracy: 0.2600\n",
      "Epoch 6/9\n",
      "16/16 [==============================] - 0s 17ms/step - loss: 2.6738 - accuracy: 0.2772 - val_loss: 2.6613 - val_accuracy: 0.2670\n",
      "Epoch 7/9\n",
      "16/16 [==============================] - 0s 18ms/step - loss: 2.4746 - accuracy: 0.2874 - val_loss: 2.4850 - val_accuracy: 0.2860\n",
      "Epoch 8/9\n",
      "16/16 [==============================] - 0s 20ms/step - loss: 2.2783 - accuracy: 0.2952 - val_loss: 2.3194 - val_accuracy: 0.2890\n",
      "Epoch 9/9\n",
      "16/16 [==============================] - 0s 23ms/step - loss: 2.0757 - accuracy: 0.3061 - val_loss: 2.1404 - val_accuracy: 0.3050\n"
     ]
    },
    {
     "data": {
      "text/plain": [
       "<keras.callbacks.History at 0x2109e8eb640>"
      ]
     },
     "execution_count": 46,
     "metadata": {},
     "output_type": "execute_result"
    }
   ],
   "source": [
    "model4.fit(partial_x_train, partial_y_train, epochs=9, batch_size=512, validation_data = (x_val, y_val))"
   ]
  },
  {
   "cell_type": "code",
   "execution_count": 47,
   "id": "4e7ba617",
   "metadata": {},
   "outputs": [
    {
     "name": "stdout",
     "output_type": "stream",
     "text": [
      "71/71 [==============================] - 0s 5ms/step - loss: 2.1910 - accuracy: 0.2841\n"
     ]
    },
    {
     "data": {
      "text/plain": [
       "[2.190962314605713, 0.284060537815094]"
      ]
     },
     "execution_count": 47,
     "metadata": {},
     "output_type": "execute_result"
    }
   ],
   "source": [
    "results = model4.evaluate(x_test, one_hot_test_labels)\n",
    "results\n",
    "# As we reduced the dimention of the hidden layer to 4, due to the low dimention compared to the number of classes (46), it is not performing well."
   ]
  },
  {
   "cell_type": "code",
   "execution_count": 48,
   "id": "f042efbf",
   "metadata": {},
   "outputs": [],
   "source": [
    "model5 = models.Sequential()\n",
    "model5.add(layers.Dense(128, activation='relu', input_shape=(10000,)))\n",
    "model5.add(layers.Dense(128, activation='relu'))\n",
    "model5.add(layers.Dense(46, activation='softmax'))\n",
    "model5.compile(optimizer ='rmsprop', loss='categorical_crossentropy', metrics=['accuracy'])"
   ]
  },
  {
   "cell_type": "code",
   "execution_count": 49,
   "id": "343e605d",
   "metadata": {},
   "outputs": [
    {
     "name": "stdout",
     "output_type": "stream",
     "text": [
      "Epoch 1/9\n",
      "16/16 [==============================] - 1s 41ms/step - loss: 2.4007 - accuracy: 0.5284 - val_loss: 1.5238 - val_accuracy: 0.6480\n",
      "Epoch 2/9\n",
      "16/16 [==============================] - 0s 24ms/step - loss: 1.2876 - accuracy: 0.7169 - val_loss: 1.2087 - val_accuracy: 0.7170\n",
      "Epoch 3/9\n",
      "16/16 [==============================] - 0s 24ms/step - loss: 0.9726 - accuracy: 0.7814 - val_loss: 1.0311 - val_accuracy: 0.7760\n",
      "Epoch 4/9\n",
      "16/16 [==============================] - 0s 23ms/step - loss: 0.7563 - accuracy: 0.8276 - val_loss: 0.9849 - val_accuracy: 0.7870\n",
      "Epoch 5/9\n",
      "16/16 [==============================] - 0s 24ms/step - loss: 0.5798 - accuracy: 0.8771 - val_loss: 0.9607 - val_accuracy: 0.7850\n",
      "Epoch 6/9\n",
      "16/16 [==============================] - 0s 24ms/step - loss: 0.4615 - accuracy: 0.8993 - val_loss: 0.9081 - val_accuracy: 0.7980\n",
      "Epoch 7/9\n",
      "16/16 [==============================] - 0s 23ms/step - loss: 0.3686 - accuracy: 0.9204 - val_loss: 0.8636 - val_accuracy: 0.8120\n",
      "Epoch 8/9\n",
      "16/16 [==============================] - 0s 24ms/step - loss: 0.3081 - accuracy: 0.9322 - val_loss: 0.8535 - val_accuracy: 0.8180\n",
      "Epoch 9/9\n",
      "16/16 [==============================] - 0s 21ms/step - loss: 0.2497 - accuracy: 0.9439 - val_loss: 0.8875 - val_accuracy: 0.8140\n"
     ]
    },
    {
     "data": {
      "text/plain": [
       "<keras.callbacks.History at 0x2104e2765f0>"
      ]
     },
     "execution_count": 49,
     "metadata": {},
     "output_type": "execute_result"
    }
   ],
   "source": [
    "model5.fit(partial_x_train, partial_y_train, epochs=9, batch_size=512, validation_data = (x_val, y_val))"
   ]
  },
  {
   "cell_type": "code",
   "execution_count": 50,
   "id": "1f48e288",
   "metadata": {
    "scrolled": true
   },
   "outputs": [
    {
     "name": "stdout",
     "output_type": "stream",
     "text": [
      "71/71 [==============================] - 0s 3ms/step - loss: 0.9559 - accuracy: 0.7876\n"
     ]
    },
    {
     "data": {
      "text/plain": [
       "[0.9558642506599426, 0.7876224517822266]"
      ]
     },
     "execution_count": 50,
     "metadata": {},
     "output_type": "execute_result"
    }
   ],
   "source": [
    "results = model5.evaluate(x_test, one_hot_test_labels)\n",
    "results"
   ]
  },
  {
   "cell_type": "markdown",
   "id": "2226fd5a",
   "metadata": {},
   "source": [
    "#### Try with 250 units"
   ]
  },
  {
   "cell_type": "code",
   "execution_count": 51,
   "id": "4f50e633",
   "metadata": {},
   "outputs": [
    {
     "name": "stdout",
     "output_type": "stream",
     "text": [
      "Epoch 1/9\n",
      "16/16 [==============================] - 1s 43ms/step - loss: 2.1424 - accuracy: 0.5396 - val_loss: 1.3753 - val_accuracy: 0.6880\n",
      "Epoch 2/9\n",
      "16/16 [==============================] - 1s 33ms/step - loss: 1.1725 - accuracy: 0.7360 - val_loss: 1.0830 - val_accuracy: 0.7530\n",
      "Epoch 3/9\n",
      "16/16 [==============================] - 1s 35ms/step - loss: 0.8516 - accuracy: 0.8107 - val_loss: 0.9405 - val_accuracy: 0.7970\n",
      "Epoch 4/9\n",
      "16/16 [==============================] - 1s 32ms/step - loss: 0.6280 - accuracy: 0.8602 - val_loss: 0.8947 - val_accuracy: 0.8060\n",
      "Epoch 5/9\n",
      "16/16 [==============================] - 1s 34ms/step - loss: 0.4771 - accuracy: 0.8948 - val_loss: 0.8556 - val_accuracy: 0.8060\n",
      "Epoch 6/9\n",
      "16/16 [==============================] - 1s 33ms/step - loss: 0.3697 - accuracy: 0.9182 - val_loss: 0.8305 - val_accuracy: 0.8280\n",
      "Epoch 7/9\n",
      "16/16 [==============================] - 1s 32ms/step - loss: 0.2811 - accuracy: 0.9360 - val_loss: 0.8527 - val_accuracy: 0.8180\n",
      "Epoch 8/9\n",
      "16/16 [==============================] - 1s 33ms/step - loss: 0.2357 - accuracy: 0.9439 - val_loss: 1.0159 - val_accuracy: 0.7810\n",
      "Epoch 9/9\n",
      "16/16 [==============================] - 0s 31ms/step - loss: 0.2150 - accuracy: 0.9437 - val_loss: 0.9113 - val_accuracy: 0.7930\n"
     ]
    },
    {
     "data": {
      "text/plain": [
       "<keras.callbacks.History at 0x210511eca00>"
      ]
     },
     "execution_count": 51,
     "metadata": {},
     "output_type": "execute_result"
    }
   ],
   "source": [
    "model6 = models.Sequential()\n",
    "model6.add(layers.Dense(250, activation='relu', input_shape=(10000,)))\n",
    "model6.add(layers.Dense(250, activation='relu'))\n",
    "model6.add(layers.Dense(46, activation='softmax'))\n",
    "model6.compile(optimizer ='rmsprop', loss='categorical_crossentropy', metrics=['accuracy'])\n",
    "model6.fit(partial_x_train, partial_y_train, epochs=9, batch_size=512, validation_data = (x_val, y_val))"
   ]
  },
  {
   "cell_type": "code",
   "execution_count": 52,
   "id": "9966c11c",
   "metadata": {},
   "outputs": [
    {
     "name": "stdout",
     "output_type": "stream",
     "text": [
      "71/71 [==============================] - 0s 6ms/step - loss: 0.9570 - accuracy: 0.7996\n"
     ]
    },
    {
     "data": {
      "text/plain": [
       "[0.9569647312164307, 0.7996438145637512]"
      ]
     },
     "execution_count": 52,
     "metadata": {},
     "output_type": "execute_result"
    }
   ],
   "source": [
    "results = model6.evaluate(x_test, one_hot_test_labels)\n",
    "results\n",
    "# The accuracy increased slightly"
   ]
  },
  {
   "cell_type": "markdown",
   "id": "2b93bbe6",
   "metadata": {},
   "source": [
    "### Try to change the number of layers"
   ]
  },
  {
   "cell_type": "code",
   "execution_count": 53,
   "id": "e174c2fe",
   "metadata": {},
   "outputs": [
    {
     "data": {
      "text/plain": [
       "(7982, 10000)"
      ]
     },
     "execution_count": 53,
     "metadata": {},
     "output_type": "execute_result"
    }
   ],
   "source": [
    "partial_x_train.shape"
   ]
  },
  {
   "cell_type": "code",
   "execution_count": 54,
   "id": "f2672098",
   "metadata": {},
   "outputs": [
    {
     "name": "stdout",
     "output_type": "stream",
     "text": [
      "Epoch 1/9\n",
      "23/23 [==============================] - 1s 33ms/step - loss: 2.0193 - accuracy: 0.5333 - val_loss: 1.3558 - val_accuracy: 0.6820\n",
      "Epoch 2/9\n",
      "23/23 [==============================] - 1s 25ms/step - loss: 1.1388 - accuracy: 0.7347 - val_loss: 1.0804 - val_accuracy: 0.7510\n",
      "Epoch 3/9\n",
      "23/23 [==============================] - 1s 26ms/step - loss: 0.8227 - accuracy: 0.8104 - val_loss: 1.0207 - val_accuracy: 0.7640\n",
      "Epoch 4/9\n",
      "23/23 [==============================] - 1s 26ms/step - loss: 0.5705 - accuracy: 0.8664 - val_loss: 0.9927 - val_accuracy: 0.7930\n",
      "Epoch 5/9\n",
      "23/23 [==============================] - 1s 26ms/step - loss: 0.4238 - accuracy: 0.9023 - val_loss: 0.8687 - val_accuracy: 0.8240\n",
      "Epoch 6/9\n",
      "23/23 [==============================] - 1s 26ms/step - loss: 0.2917 - accuracy: 0.9315 - val_loss: 0.9420 - val_accuracy: 0.8000\n",
      "Epoch 7/9\n",
      "23/23 [==============================] - 1s 26ms/step - loss: 0.2420 - accuracy: 0.9406 - val_loss: 0.9441 - val_accuracy: 0.8060\n",
      "Epoch 8/9\n",
      "23/23 [==============================] - 1s 26ms/step - loss: 0.1975 - accuracy: 0.9481 - val_loss: 0.9513 - val_accuracy: 0.8100\n",
      "Epoch 9/9\n",
      "23/23 [==============================] - 1s 26ms/step - loss: 0.1700 - accuracy: 0.9534 - val_loss: 0.9111 - val_accuracy: 0.8190\n"
     ]
    },
    {
     "data": {
      "text/plain": [
       "<keras.callbacks.History at 0x2105067f8e0>"
      ]
     },
     "execution_count": 54,
     "metadata": {},
     "output_type": "execute_result"
    }
   ],
   "source": [
    "model6 = models.Sequential()\n",
    "model6.add(layers.Dense(250, activation='relu', input_shape=(10000,)))\n",
    "model6.add(layers.Dense(250, activation='relu'))\n",
    "model6.add(layers.Dense(250, activation='relu')) #added this layer\n",
    "model6.add(layers.Dense(46, activation='softmax'))\n",
    "model6.compile(optimizer ='rmsprop', loss='categorical_crossentropy', metrics=['accuracy'])\n",
    "model6.fit(partial_x_train, partial_y_train, epochs=9, batch_size=350, validation_data = (x_val, y_val))"
   ]
  },
  {
   "cell_type": "code",
   "execution_count": 55,
   "id": "c25e058a",
   "metadata": {},
   "outputs": [
    {
     "name": "stdout",
     "output_type": "stream",
     "text": [
      "71/71 [==============================] - 1s 7ms/step - loss: 1.0341 - accuracy: 0.7881\n"
     ]
    },
    {
     "data": {
      "text/plain": [
       "[1.034122109413147, 0.7880676984786987]"
      ]
     },
     "execution_count": 55,
     "metadata": {},
     "output_type": "execute_result"
    }
   ],
   "source": [
    "results = model6.evaluate(x_test, one_hot_test_labels)\n",
    "results"
   ]
  },
  {
   "cell_type": "code",
   "execution_count": 56,
   "id": "f7f9404d",
   "metadata": {},
   "outputs": [
    {
     "name": "stdout",
     "output_type": "stream",
     "text": [
      "Epoch 1/9\n",
      "32/32 [==============================] - 1s 22ms/step - loss: 1.9277 - accuracy: 0.6257 - val_loss: 1.2651 - val_accuracy: 0.7320\n",
      "Epoch 2/9\n",
      "32/32 [==============================] - 1s 19ms/step - loss: 0.9824 - accuracy: 0.7922 - val_loss: 0.9949 - val_accuracy: 0.8000\n",
      "Epoch 3/9\n",
      "32/32 [==============================] - 1s 16ms/step - loss: 0.6775 - accuracy: 0.8603 - val_loss: 0.8826 - val_accuracy: 0.8200\n",
      "Epoch 4/9\n",
      "32/32 [==============================] - 0s 16ms/step - loss: 0.4914 - accuracy: 0.9007 - val_loss: 0.8271 - val_accuracy: 0.8220\n",
      "Epoch 5/9\n",
      "32/32 [==============================] - 0s 14ms/step - loss: 0.3744 - accuracy: 0.9213 - val_loss: 0.7850 - val_accuracy: 0.8320\n",
      "Epoch 6/9\n",
      "32/32 [==============================] - 0s 15ms/step - loss: 0.2964 - accuracy: 0.9357 - val_loss: 0.7794 - val_accuracy: 0.8360\n",
      "Epoch 7/9\n",
      "32/32 [==============================] - 0s 16ms/step - loss: 0.2429 - accuracy: 0.9436 - val_loss: 0.7909 - val_accuracy: 0.8310\n",
      "Epoch 8/9\n",
      "32/32 [==============================] - 0s 15ms/step - loss: 0.2113 - accuracy: 0.9481 - val_loss: 0.8054 - val_accuracy: 0.8320\n",
      "Epoch 9/9\n",
      "32/32 [==============================] - 1s 16ms/step - loss: 0.1807 - accuracy: 0.9519 - val_loss: 0.8006 - val_accuracy: 0.8310\n"
     ]
    },
    {
     "data": {
      "text/plain": [
       "<keras.callbacks.History at 0x210509de680>"
      ]
     },
     "execution_count": 56,
     "metadata": {},
     "output_type": "execute_result"
    }
   ],
   "source": [
    "model6 = models.Sequential()\n",
    "model6.add(layers.Dense(135, activation='relu', input_shape=(10000,)))\n",
    "model6.add(layers.Dense(46, activation='softmax'))\n",
    "model6.compile(optimizer ='rmsprop', loss='categorical_crossentropy', metrics=['accuracy'])\n",
    "model6.fit(partial_x_train, partial_y_train, epochs=9, batch_size=250, validation_data = (x_val, y_val))"
   ]
  },
  {
   "cell_type": "code",
   "execution_count": 57,
   "id": "4b4d9456",
   "metadata": {},
   "outputs": [
    {
     "name": "stdout",
     "output_type": "stream",
     "text": [
      "71/71 [==============================] - 0s 4ms/step - loss: 0.8807 - accuracy: 0.8090\n"
     ]
    },
    {
     "data": {
      "text/plain": [
       "[0.8807295560836792, 0.8089937567710876]"
      ]
     },
     "execution_count": 57,
     "metadata": {},
     "output_type": "execute_result"
    }
   ],
   "source": [
    "results = model6.evaluate(x_test, one_hot_test_labels)\n",
    "results"
   ]
  }
 ],
 "metadata": {
  "kernelspec": {
   "display_name": "Python 3 (ipykernel)",
   "language": "python",
   "name": "python3"
  },
  "language_info": {
   "codemirror_mode": {
    "name": "ipython",
    "version": 3
   },
   "file_extension": ".py",
   "mimetype": "text/x-python",
   "name": "python",
   "nbconvert_exporter": "python",
   "pygments_lexer": "ipython3",
   "version": "3.10.9"
  }
 },
 "nbformat": 4,
 "nbformat_minor": 5
}
